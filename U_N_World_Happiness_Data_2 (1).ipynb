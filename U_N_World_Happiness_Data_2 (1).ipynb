{
  "cells": [
    {
      "cell_type": "code",
      "execution_count": 5,
      "metadata": {
        "id": "1g8ouE9hWeU1",
        "colab": {
          "base_uri": "https://localhost:8080/"
        },
        "outputId": "154cac58-fd0d-40df-d1de-a3219c614802"
      },
      "outputs": [
        {
          "output_type": "stream",
          "name": "stdout",
          "text": [
            "Imported 0.2.04 version. Select nrows to a small number when running on huge datasets.\n",
            "output = featurewiz(dataname, target, corr_limit=0.90, verbose=2, sep=',', \n",
            "\t\theader=0, test_data='',feature_engg='', category_encoders='',\n",
            "\t\tdask_xgboost_flag=False, nrows=None, skip_sulov=False)\n",
            "Create new features via 'feature_engg' flag : ['interactions','groupby','target']\n",
            "\n"
          ]
        }
      ],
      "source": [
        "# import libraries\n",
        "import pandas as pd\n",
        "from sklearn.compose import ColumnTransformer, make_column_transformer\n",
        "from sklearn.pipeline import Pipeline\n",
        "from sklearn.impute import SimpleImputer\n",
        "from sklearn.preprocessing import StandardScaler, OneHotEncoder, MaxAbsScaler, MinMaxScaler\n",
        "from numpy import loadtxt\n",
        "from sklearn.ensemble import GradientBoostingClassifier\n",
        "from sklearn.metrics import accuracy_score\n",
        "import aimodelshare as ai \n",
        "import numpy as np\n",
        "import seaborn as sns\n",
        "from sklearn.ensemble import RandomForestClassifier, BaggingClassifier\n",
        "from sklearn.model_selection import cross_val_score\n",
        "from sklearn.model_selection import KFold\n",
        "import keras\n",
        "from tensorflow.keras.optimizers import SGD\n",
        "from keras.layers import Dense, Activation\n",
        "from keras.models import Sequential\n",
        "from keras.utils import to_categorical\n",
        "from featurewiz import featurewiz"
      ]
    },
    {
      "cell_type": "markdown",
      "metadata": {
        "id": "xQHnRU0HXeIn"
      },
      "source": [
        "## 1. Get data in and set up X_train, X_test, y_train objects"
      ]
    },
    {
      "cell_type": "code",
      "execution_count": 6,
      "metadata": {
        "id": "2m8HBAEkXix7"
      },
      "outputs": [],
      "source": [
        "# import CSVs\n",
        "X_test = pd.read_csv('X_test.csv')\n",
        "X_train = pd.read_csv('X_train.csv')\n",
        "y_train = pd.read_csv('y_train.csv')"
      ]
    },
    {
      "cell_type": "code",
      "execution_count": 7,
      "metadata": {
        "colab": {
          "base_uri": "https://localhost:8080/"
        },
        "id": "BnD_kgj1XnHF",
        "outputId": "e55ce7b3-8925-42b4-98ee-baad34910321"
      },
      "outputs": [
        {
          "output_type": "execute_result",
          "data": {
            "text/plain": [
              "0       Average\n",
              "1          High\n",
              "2       Average\n",
              "3     Very High\n",
              "4          High\n",
              "        ...    \n",
              "83      Average\n",
              "84          Low\n",
              "85    Very High\n",
              "86      Average\n",
              "87          Low\n",
              "Length: 88, dtype: object"
            ]
          },
          "metadata": {},
          "execution_count": 7
        }
      ],
      "source": [
        "# create labels for y train\n",
        "y_train_labels = y_train.idxmax(axis=1)\n",
        "y_train_labels"
      ]
    },
    {
      "cell_type": "markdown",
      "metadata": {
        "id": "-W1yQpKf7fHT"
      },
      "source": [
        "## Explore bivariate results"
      ]
    },
    {
      "cell_type": "code",
      "execution_count": 8,
      "metadata": {
        "colab": {
          "base_uri": "https://localhost:8080/",
          "height": 572
        },
        "id": "rnBsPIyz7l2r",
        "outputId": "af1a6a86-67e8-4aa8-b72b-6112af0426f6"
      },
      "outputs": [
        {
          "output_type": "execute_result",
          "data": {
            "text/plain": [
              "      Country or region  GDP per capita  Social support  \\\n",
              "0                  Peru           0.960           1.274   \n",
              "1             Nicaragua           0.694           1.325   \n",
              "2                Greece           1.181           1.156   \n",
              "3                 Qatar           1.684           1.313   \n",
              "4            Uzbekistan           0.745           1.529   \n",
              "..                  ...             ...             ...   \n",
              "83                Libya           1.044           1.303   \n",
              "84              Albania           0.947           0.848   \n",
              "85       United Kingdom           1.333           1.538   \n",
              "86                China           1.029           1.125   \n",
              "87  Congo (Brazzaville)           0.673           0.799   \n",
              "\n",
              "    Healthy life expectancy  Freedom to make life choices  Generosity  \\\n",
              "0                     0.854                         0.455       0.083   \n",
              "1                     0.835                         0.435       0.200   \n",
              "2                     0.999                         0.067       0.000   \n",
              "3                     0.871                         0.555       0.220   \n",
              "4                     0.756                         0.631       0.322   \n",
              "..                      ...                           ...         ...   \n",
              "83                    0.673                         0.416       0.133   \n",
              "84                    0.874                         0.383       0.178   \n",
              "85                    0.996                         0.450       0.348   \n",
              "86                    0.893                         0.521       0.058   \n",
              "87                    0.508                         0.372       0.105   \n",
              "\n",
              "    Perceptions of corruption                 name    region  \\\n",
              "0                       0.027                 Peru  Americas   \n",
              "1                       0.127            Nicaragua  Americas   \n",
              "2                       0.034               Greece    Europe   \n",
              "3                       0.167                Qatar      Asia   \n",
              "4                       0.240           Uzbekistan      Asia   \n",
              "..                        ...                  ...       ...   \n",
              "83                      0.152                Libya    Africa   \n",
              "84                      0.027              Albania    Europe   \n",
              "85                      0.278       United Kingdom    Europe   \n",
              "86                      0.100                China      Asia   \n",
              "87                      0.093  Congo (Brazzaville)    Africa   \n",
              "\n",
              "                         sub-region  Terrorist_attacks  \n",
              "0   Latin America and the Caribbean          18.000000  \n",
              "1   Latin America and the Caribbean         125.611111  \n",
              "2                   Southern Europe         112.000000  \n",
              "3                      Western Asia          57.333333  \n",
              "4                      Central Asia         125.611111  \n",
              "..                              ...                ...  \n",
              "83                  Northern Africa        1448.000000  \n",
              "84                  Southern Europe           9.000000  \n",
              "85                  Northern Europe         339.000000  \n",
              "86                     Eastern Asia          37.000000  \n",
              "87               Sub-Saharan Africa         122.000000  \n",
              "\n",
              "[88 rows x 11 columns]"
            ],
            "text/html": [
              "\n",
              "  <div id=\"df-439a4cfe-231f-4b24-a5e2-4a2885b4932c\">\n",
              "    <div class=\"colab-df-container\">\n",
              "      <div>\n",
              "<style scoped>\n",
              "    .dataframe tbody tr th:only-of-type {\n",
              "        vertical-align: middle;\n",
              "    }\n",
              "\n",
              "    .dataframe tbody tr th {\n",
              "        vertical-align: top;\n",
              "    }\n",
              "\n",
              "    .dataframe thead th {\n",
              "        text-align: right;\n",
              "    }\n",
              "</style>\n",
              "<table border=\"1\" class=\"dataframe\">\n",
              "  <thead>\n",
              "    <tr style=\"text-align: right;\">\n",
              "      <th></th>\n",
              "      <th>Country or region</th>\n",
              "      <th>GDP per capita</th>\n",
              "      <th>Social support</th>\n",
              "      <th>Healthy life expectancy</th>\n",
              "      <th>Freedom to make life choices</th>\n",
              "      <th>Generosity</th>\n",
              "      <th>Perceptions of corruption</th>\n",
              "      <th>name</th>\n",
              "      <th>region</th>\n",
              "      <th>sub-region</th>\n",
              "      <th>Terrorist_attacks</th>\n",
              "    </tr>\n",
              "  </thead>\n",
              "  <tbody>\n",
              "    <tr>\n",
              "      <th>0</th>\n",
              "      <td>Peru</td>\n",
              "      <td>0.960</td>\n",
              "      <td>1.274</td>\n",
              "      <td>0.854</td>\n",
              "      <td>0.455</td>\n",
              "      <td>0.083</td>\n",
              "      <td>0.027</td>\n",
              "      <td>Peru</td>\n",
              "      <td>Americas</td>\n",
              "      <td>Latin America and the Caribbean</td>\n",
              "      <td>18.000000</td>\n",
              "    </tr>\n",
              "    <tr>\n",
              "      <th>1</th>\n",
              "      <td>Nicaragua</td>\n",
              "      <td>0.694</td>\n",
              "      <td>1.325</td>\n",
              "      <td>0.835</td>\n",
              "      <td>0.435</td>\n",
              "      <td>0.200</td>\n",
              "      <td>0.127</td>\n",
              "      <td>Nicaragua</td>\n",
              "      <td>Americas</td>\n",
              "      <td>Latin America and the Caribbean</td>\n",
              "      <td>125.611111</td>\n",
              "    </tr>\n",
              "    <tr>\n",
              "      <th>2</th>\n",
              "      <td>Greece</td>\n",
              "      <td>1.181</td>\n",
              "      <td>1.156</td>\n",
              "      <td>0.999</td>\n",
              "      <td>0.067</td>\n",
              "      <td>0.000</td>\n",
              "      <td>0.034</td>\n",
              "      <td>Greece</td>\n",
              "      <td>Europe</td>\n",
              "      <td>Southern Europe</td>\n",
              "      <td>112.000000</td>\n",
              "    </tr>\n",
              "    <tr>\n",
              "      <th>3</th>\n",
              "      <td>Qatar</td>\n",
              "      <td>1.684</td>\n",
              "      <td>1.313</td>\n",
              "      <td>0.871</td>\n",
              "      <td>0.555</td>\n",
              "      <td>0.220</td>\n",
              "      <td>0.167</td>\n",
              "      <td>Qatar</td>\n",
              "      <td>Asia</td>\n",
              "      <td>Western Asia</td>\n",
              "      <td>57.333333</td>\n",
              "    </tr>\n",
              "    <tr>\n",
              "      <th>4</th>\n",
              "      <td>Uzbekistan</td>\n",
              "      <td>0.745</td>\n",
              "      <td>1.529</td>\n",
              "      <td>0.756</td>\n",
              "      <td>0.631</td>\n",
              "      <td>0.322</td>\n",
              "      <td>0.240</td>\n",
              "      <td>Uzbekistan</td>\n",
              "      <td>Asia</td>\n",
              "      <td>Central Asia</td>\n",
              "      <td>125.611111</td>\n",
              "    </tr>\n",
              "    <tr>\n",
              "      <th>...</th>\n",
              "      <td>...</td>\n",
              "      <td>...</td>\n",
              "      <td>...</td>\n",
              "      <td>...</td>\n",
              "      <td>...</td>\n",
              "      <td>...</td>\n",
              "      <td>...</td>\n",
              "      <td>...</td>\n",
              "      <td>...</td>\n",
              "      <td>...</td>\n",
              "      <td>...</td>\n",
              "    </tr>\n",
              "    <tr>\n",
              "      <th>83</th>\n",
              "      <td>Libya</td>\n",
              "      <td>1.044</td>\n",
              "      <td>1.303</td>\n",
              "      <td>0.673</td>\n",
              "      <td>0.416</td>\n",
              "      <td>0.133</td>\n",
              "      <td>0.152</td>\n",
              "      <td>Libya</td>\n",
              "      <td>Africa</td>\n",
              "      <td>Northern Africa</td>\n",
              "      <td>1448.000000</td>\n",
              "    </tr>\n",
              "    <tr>\n",
              "      <th>84</th>\n",
              "      <td>Albania</td>\n",
              "      <td>0.947</td>\n",
              "      <td>0.848</td>\n",
              "      <td>0.874</td>\n",
              "      <td>0.383</td>\n",
              "      <td>0.178</td>\n",
              "      <td>0.027</td>\n",
              "      <td>Albania</td>\n",
              "      <td>Europe</td>\n",
              "      <td>Southern Europe</td>\n",
              "      <td>9.000000</td>\n",
              "    </tr>\n",
              "    <tr>\n",
              "      <th>85</th>\n",
              "      <td>United Kingdom</td>\n",
              "      <td>1.333</td>\n",
              "      <td>1.538</td>\n",
              "      <td>0.996</td>\n",
              "      <td>0.450</td>\n",
              "      <td>0.348</td>\n",
              "      <td>0.278</td>\n",
              "      <td>United Kingdom</td>\n",
              "      <td>Europe</td>\n",
              "      <td>Northern Europe</td>\n",
              "      <td>339.000000</td>\n",
              "    </tr>\n",
              "    <tr>\n",
              "      <th>86</th>\n",
              "      <td>China</td>\n",
              "      <td>1.029</td>\n",
              "      <td>1.125</td>\n",
              "      <td>0.893</td>\n",
              "      <td>0.521</td>\n",
              "      <td>0.058</td>\n",
              "      <td>0.100</td>\n",
              "      <td>China</td>\n",
              "      <td>Asia</td>\n",
              "      <td>Eastern Asia</td>\n",
              "      <td>37.000000</td>\n",
              "    </tr>\n",
              "    <tr>\n",
              "      <th>87</th>\n",
              "      <td>Congo (Brazzaville)</td>\n",
              "      <td>0.673</td>\n",
              "      <td>0.799</td>\n",
              "      <td>0.508</td>\n",
              "      <td>0.372</td>\n",
              "      <td>0.105</td>\n",
              "      <td>0.093</td>\n",
              "      <td>Congo (Brazzaville)</td>\n",
              "      <td>Africa</td>\n",
              "      <td>Sub-Saharan Africa</td>\n",
              "      <td>122.000000</td>\n",
              "    </tr>\n",
              "  </tbody>\n",
              "</table>\n",
              "<p>88 rows × 11 columns</p>\n",
              "</div>\n",
              "      <button class=\"colab-df-convert\" onclick=\"convertToInteractive('df-439a4cfe-231f-4b24-a5e2-4a2885b4932c')\"\n",
              "              title=\"Convert this dataframe to an interactive table.\"\n",
              "              style=\"display:none;\">\n",
              "        \n",
              "  <svg xmlns=\"http://www.w3.org/2000/svg\" height=\"24px\"viewBox=\"0 0 24 24\"\n",
              "       width=\"24px\">\n",
              "    <path d=\"M0 0h24v24H0V0z\" fill=\"none\"/>\n",
              "    <path d=\"M18.56 5.44l.94 2.06.94-2.06 2.06-.94-2.06-.94-.94-2.06-.94 2.06-2.06.94zm-11 1L8.5 8.5l.94-2.06 2.06-.94-2.06-.94L8.5 2.5l-.94 2.06-2.06.94zm10 10l.94 2.06.94-2.06 2.06-.94-2.06-.94-.94-2.06-.94 2.06-2.06.94z\"/><path d=\"M17.41 7.96l-1.37-1.37c-.4-.4-.92-.59-1.43-.59-.52 0-1.04.2-1.43.59L10.3 9.45l-7.72 7.72c-.78.78-.78 2.05 0 2.83L4 21.41c.39.39.9.59 1.41.59.51 0 1.02-.2 1.41-.59l7.78-7.78 2.81-2.81c.8-.78.8-2.07 0-2.86zM5.41 20L4 18.59l7.72-7.72 1.47 1.35L5.41 20z\"/>\n",
              "  </svg>\n",
              "      </button>\n",
              "      \n",
              "  <style>\n",
              "    .colab-df-container {\n",
              "      display:flex;\n",
              "      flex-wrap:wrap;\n",
              "      gap: 12px;\n",
              "    }\n",
              "\n",
              "    .colab-df-convert {\n",
              "      background-color: #E8F0FE;\n",
              "      border: none;\n",
              "      border-radius: 50%;\n",
              "      cursor: pointer;\n",
              "      display: none;\n",
              "      fill: #1967D2;\n",
              "      height: 32px;\n",
              "      padding: 0 0 0 0;\n",
              "      width: 32px;\n",
              "    }\n",
              "\n",
              "    .colab-df-convert:hover {\n",
              "      background-color: #E2EBFA;\n",
              "      box-shadow: 0px 1px 2px rgba(60, 64, 67, 0.3), 0px 1px 3px 1px rgba(60, 64, 67, 0.15);\n",
              "      fill: #174EA6;\n",
              "    }\n",
              "\n",
              "    [theme=dark] .colab-df-convert {\n",
              "      background-color: #3B4455;\n",
              "      fill: #D2E3FC;\n",
              "    }\n",
              "\n",
              "    [theme=dark] .colab-df-convert:hover {\n",
              "      background-color: #434B5C;\n",
              "      box-shadow: 0px 1px 3px 1px rgba(0, 0, 0, 0.15);\n",
              "      filter: drop-shadow(0px 1px 2px rgba(0, 0, 0, 0.3));\n",
              "      fill: #FFFFFF;\n",
              "    }\n",
              "  </style>\n",
              "\n",
              "      <script>\n",
              "        const buttonEl =\n",
              "          document.querySelector('#df-439a4cfe-231f-4b24-a5e2-4a2885b4932c button.colab-df-convert');\n",
              "        buttonEl.style.display =\n",
              "          google.colab.kernel.accessAllowed ? 'block' : 'none';\n",
              "\n",
              "        async function convertToInteractive(key) {\n",
              "          const element = document.querySelector('#df-439a4cfe-231f-4b24-a5e2-4a2885b4932c');\n",
              "          const dataTable =\n",
              "            await google.colab.kernel.invokeFunction('convertToInteractive',\n",
              "                                                     [key], {});\n",
              "          if (!dataTable) return;\n",
              "\n",
              "          const docLinkHtml = 'Like what you see? Visit the ' +\n",
              "            '<a target=\"_blank\" href=https://colab.research.google.com/notebooks/data_table.ipynb>data table notebook</a>'\n",
              "            + ' to learn more about interactive tables.';\n",
              "          element.innerHTML = '';\n",
              "          dataTable['output_type'] = 'display_data';\n",
              "          await google.colab.output.renderOutput(dataTable, element);\n",
              "          const docLink = document.createElement('div');\n",
              "          docLink.innerHTML = docLinkHtml;\n",
              "          element.appendChild(docLink);\n",
              "        }\n",
              "      </script>\n",
              "    </div>\n",
              "  </div>\n",
              "  "
            ]
          },
          "metadata": {},
          "execution_count": 8
        }
      ],
      "source": [
        "X_train"
      ]
    },
    {
      "cell_type": "markdown",
      "metadata": {
        "id": "xHD_4hF5_aNT"
      },
      "source": [
        "\n",
        "#### As the GDP per capita by happiness categories violin plot shows, countries with higher GDP per capita tend to be in higher happiness categories which is expected, since higher GDP per capita is usually an indicator of better economic development of the country which leads to higher happiness.\n",
        "#### Countries in the 'very high' happiness category has the highest median and upper & lower quartile of GDP per capita.\n",
        "#### Countries in the 'very low' happiness category has the lowest median and upper & lower quartile of GDP per capita."
      ]
    },
    {
      "cell_type": "code",
      "execution_count": null,
      "metadata": {
        "colab": {
          "base_uri": "https://localhost:8080/",
          "height": 283
        },
        "id": "ti02OSoS7jOA",
        "outputId": "e3f92ad4-af83-453f-8ee2-fd571ba6db8c"
      },
      "outputs": [
        {
          "data": {
            "text/plain": [
              "<AxesSubplot: ylabel='GDP per capita'>"
            ]
          },
          "execution_count": 5,
          "metadata": {},
          "output_type": "execute_result"
        },
        {
          "data": {
            "image/png": "[encoded data removed]",
            "text/plain": [
              "<Figure size 640x480 with 1 Axes>"
            ]
          },
          "metadata": {},
          "output_type": "display_data"
        }
      ],
      "source": [
        "sns.violinplot(y=X_train['GDP per capita'], x=y_train_labels,palette='rainbow',\n",
        "               order=[\"Very Low\",\"Low\",\"Average\",\"High\", 'Very High'])"
      ]
    },
    {
      "cell_type": "markdown",
      "metadata": {
        "id": "oNgHH0kH_P4e"
      },
      "source": [
        "\n",
        "#### As the healthy life expectancy by happiness categories violin plot shows, countries with healthy life expectancy tend to be in higher happiness categories which is expected, since healthy life expectancy is an indicator of higher average number of years a person can expect to live in full health, which leads to higher happiness.\n",
        "#### Countries in the 'very high' happiness category has the highest median and upper & lower quartile of healthy life expectancy.\n",
        "#### Countries in the 'very low' happiness category has the lowest median and upper & lower quartile of healthy life expectancy."
      ]
    },
    {
      "cell_type": "code",
      "execution_count": null,
      "metadata": {
        "colab": {
          "base_uri": "https://localhost:8080/",
          "height": 283
        },
        "id": "LQOpR9WA88o7",
        "outputId": "1bdf3110-f183-4fb7-db2f-bc877fbc561f"
      },
      "outputs": [
        {
          "data": {
            "text/plain": [
              "<AxesSubplot: ylabel='Healthy life expectancy'>"
            ]
          },
          "execution_count": 6,
          "metadata": {},
          "output_type": "execute_result"
        },
        {
          "data": {
            "image/png": "[encoded data removed]",
            "text/plain": [
              "<Figure size 640x480 with 1 Axes>"
            ]
          },
          "metadata": {},
          "output_type": "display_data"
        }
      ],
      "source": [
        "sns.violinplot(y=X_train['Healthy life expectancy'], x=y_train_labels,palette='rainbow',\n",
        "               order=[\"Very Low\",\"Low\",\"Average\",\"High\", 'Very High'])"
      ]
    },
    {
      "cell_type": "markdown",
      "metadata": {
        "id": "mX1taPDIA7xE"
      },
      "source": [
        "#### As the social support by happiness categories violin plot shows, countries with social support tend to be in higher happiness categories which is expected, since social support is an indicator higher physical, resource & information and emotional support by your friends and family, which leads to higher happiness.\n",
        "#### Countries in the 'very high' happiness category has the highest median and upper & lower quartile of social support.\n",
        "#### Countries in the 'very low' happiness category has the lowest median and upper & lower quartile of social support."
      ]
    },
    {
      "cell_type": "code",
      "execution_count": null,
      "metadata": {
        "colab": {
          "base_uri": "https://localhost:8080/",
          "height": 283
        },
        "id": "yCiqWO_c7-pG",
        "outputId": "ef3a840d-ee37-45ff-d237-e002e04664cf"
      },
      "outputs": [
        {
          "data": {
            "text/plain": [
              "<AxesSubplot: ylabel='Social support'>"
            ]
          },
          "execution_count": 7,
          "metadata": {},
          "output_type": "execute_result"
        },
        {
          "data": {
            "image/png": "[encoded data removed]",
            "text/plain": [
              "<Figure size 640x480 with 1 Axes>"
            ]
          },
          "metadata": {},
          "output_type": "display_data"
        }
      ],
      "source": [
        "sns.violinplot(y=X_train['Social support'], x=y_train_labels,palette='rainbow',\n",
        "               order=[\"Very Low\",\"Low\",\"Average\",\"High\", 'Very High'])"
      ]
    },
    {
      "cell_type": "markdown",
      "metadata": {
        "id": "XGcAO2MyMEHw"
      },
      "source": [
        "## 2.Examine features that predict happiness categories using one or more models that allow for automatic feature selection"
      ]
    },
    {
      "cell_type": "code",
      "execution_count": null,
      "metadata": {
        "id": "MqpxJJmsMoPb"
      },
      "outputs": [],
      "source": [
        "# Merge data\n",
        "data = X_train.copy()\n",
        "data['target'] = y_train_labels"
      ]
    },
    {
      "cell_type": "code",
      "execution_count": null,
      "metadata": {
        "colab": {
          "base_uri": "https://localhost:8080/",
          "height": 1000
        },
        "id": "bzX1OK1KMBRc",
        "outputId": "ec9b896b-f471-4605-a5fa-d7dd66ebd2a0"
      },
      "outputs": [
        {
          "name": "stdout",
          "output_type": "stream",
          "text": [
            "############################################################################################\n",
            "############       F A S T   F E A T U R E  E N G G    A N D    S E L E C T I O N ! ########\n",
            "# Be judicious with featurewiz. Don't use it to create too many un-interpretable features! #\n",
            "############################################################################################\n",
            "featurewiz has selected 0.7 as the correlation limit. Change this limit to fit your needs...\n",
            "Skipping feature engineering since no feature_engg input...\n",
            "Skipping category encoding since no category encoders specified in input...\n",
            "#### Single_Label Multi_Classification problem ####\n",
            "    Loaded train data. Shape = (88, 12)\n",
            "    Some column names had special characters which were removed...\n",
            "#### Single_Label Multi_Classification problem ####\n",
            "No test data filename given...\n",
            "#######################################################################################\n",
            "######################## C L A S S I F Y I N G  V A R I A B L E S  ####################\n",
            "#######################################################################################\n",
            "        2 variable(s) to be removed since ID or low-information variables\n",
            "    \tvariables removed = ['Countryorregion', 'name']\n",
            "No GPU active on this device\n",
            "    Tuning XGBoost using CPU hyper-parameters. This will take time...\n",
            "    After removing redundant variables from further processing, features left = 9\n",
            "No interactions created for categorical vars since feature engg does not specify it\n",
            "    target labels need to be converted...\n",
            "Completed label encoding of target variable = target\n",
            "How model predictions need to be transformed for target:\n",
            "\t{0: 'Average', 1: 'High', 2: 'Low', 3: 'Very High', 4: 'Very Low'}\n",
            "#######################################################################################\n",
            "#####  Searching for Uncorrelated List Of Variables (SULOV) in 7 features ############\n",
            "#######################################################################################\n",
            "    there are no null values in dataset...\n",
            "    Removing (2) highly correlated variables:\n",
            "    ['Healthylifeexpectancy', 'Socialsupport']\n",
            "    Following (5) vars selected: ['Freedomtomakelifechoices', 'Generosity', 'Perceptionsofcorruption', 'Terrorist_attacks', 'GDPpercapita']\n"
          ]
        },
        {
          "data": {
            "image/png": "[encoded data removed]",
            "text/plain": [
              "<Figure size 1500x500 with 1 Axes>"
            ]
          },
          "metadata": {},
          "output_type": "display_data"
        },
        {
          "name": "stdout",
          "output_type": "stream",
          "text": [
            "Time taken for SULOV method = 0 seconds\n",
            "    Adding 2 categorical variables to reduced numeric variables  of 5\n",
            "Final list of selected 7 vars after SULOV = ['Freedomtomakelifechoices', 'Generosity', 'Perceptionsofcorruption', 'Terrorist_attacks', 'GDPpercapita', 'region', 'subregion']\n",
            "Converting all features to numeric before sending to XGBoost...\n",
            "    there were no mixed data types or object columns that errored. Data is all numeric...\n",
            "Shape of train data after adding missing values flags = (88, 8)\n",
            "#######################################################################################\n",
            "#####    R E C U R S I V E   X G B O O S T : F E A T U R E   S E L E C T I O N  #######\n",
            "#######################################################################################\n",
            "    using regular XGBoost\n",
            "Current number of predictors before recursive XGBoost = 7 \n",
            "    Taking top 2 features per iteration...\n",
            "    XGBoost version using 1.7.3 as tree method: hist\n",
            "Number of booster rounds = 100\n",
            "        using 7 variables...\n",
            "            not selecting any important features since it did not meet criteria: F-score > 1.0\n",
            "            Time taken for regular XGBoost feature selection = 0 seconds\n",
            "        using 5 variables...\n",
            "            not selecting any important features since it did not meet criteria: F-score > 1.0\n",
            "            Time taken for regular XGBoost feature selection = 0 seconds\n",
            "        using 3 variables...\n",
            "            not selecting any important features since it did not meet criteria: F-score > 1.0\n",
            "            Time taken for regular XGBoost feature selection = 0 seconds\n"
          ]
        },
        {
          "data": {
            "image/png": "[encoded data removed]",
            "text/plain": [
              "<Figure size 1000x1000 with 4 Axes>"
            ]
          },
          "metadata": {},
          "output_type": "display_data"
        },
        {
          "name": "stdout",
          "output_type": "stream",
          "text": [
            "    Completed XGBoost feature selection in 0 seconds\n",
            "    Alert: No ID variables ['Countryorregion', 'name'] are included in selected features\n",
            "#######################################################################################\n",
            "#####          F E A T U R E   S E L E C T I O N   C O M P L E T E D            #######\n",
            "#######################################################################################\n",
            "Selected 0 important features:\n",
            "[]\n",
            "Total Time taken for featurewiz selection = 1 seconds\n",
            "Output contains a list of 0 important features and a train dataframe\n"
          ]
        }
      ],
      "source": [
        "# Automatic feature selection\n",
        "\n",
        "target = 'target'\n",
        " \n",
        "features, train = featurewiz(data, target, corr_limit=0.7, verbose=2, sep=\",\",\n",
        "header=0,test_data=\"\", feature_engg=\"\", category_encoders=\"\")"
      ]
    },
    {
      "cell_type": "markdown",
      "metadata": {
        "id": "qvPwNFZtOm6c"
      },
      "source": [
        "### The working of the SULOV algorithm is as follows:\n",
        "\n",
        "### Find all the pairs of highly correlated variables exceeding a correlation threshold (say absolute(0.7)).\n",
        "### Then find their MIS score (Mutual Information Score) to the target variable. MIS is a non-parametric scoring method. So its suitable for all kinds of variables and target.\n",
        "### Now take each pair of correlated variables, then knock off the one with the lower MIS score.\n",
        "### What’s left is the ones with the highest Information scores and least correlation with each other.\n",
        "### Reference: https://github.com/AutoViML/featurewiz\n",
        "\n",
        "### As the results suggest, Featurewiz selects 7 important features from the dataset. The Featurewiz instance returns two objects \n",
        "\n",
        "### Features - a list of selected features \n",
        "### One dataframe - This dataframe contains only selected features and the target variable."
      ]
    },
    {
      "cell_type": "code",
      "execution_count": null,
      "metadata": {
        "colab": {
          "base_uri": "https://localhost:8080/"
        },
        "id": "tl7rbK_TPKvX",
        "outputId": "69a04cb1-bbf9-437e-afb5-19f93f73728d"
      },
      "outputs": [
        {
          "name": "stdout",
          "output_type": "stream",
          "text": [
            "['Freedom to make life choices', 'Generosity', 'Perceptions of corruption', 'Terrorist_attacks', 'GDP per capita', 'region', 'sub-region']\n"
          ]
        }
      ],
      "source": [
        "print(features)"
      ]
    },
    {
      "cell_type": "markdown",
      "metadata": {
        "id": "-FIBeWFkO8is"
      },
      "source": [
        "### The features selected are 'Freedom to make life choices', 'Generosity', 'Perceptions of corruption', 'Terrorist_attacks', 'GDP per capita', 'region', and 'sub-region'. \n",
        "### The two categorical variables removed are 'Country or region' and 'name' for being low-information variables. (already done in the sample code)\n",
        "### The two numerical variables removed are 'Healthy life expectancy' and 'Social support' for being highly correlated (|correlation coefficient| > 0.7)."
      ]
    },
    {
      "cell_type": "markdown",
      "metadata": {
        "id": "WttVBLN7XqBS"
      },
      "source": [
        "## 2. Preprocess data using Sklearn Column Transformer/ Write and Save Preprocessor function"
      ]
    },
    {
      "cell_type": "code",
      "execution_count": 43,
      "metadata": {
        "id": "dOu6Dzkd5XZ5"
      },
      "outputs": [],
      "source": [
        "# Create the preprocessing pipelines for both numeric and categorical data.\n",
        "\n",
        "numeric_features = X_train.drop(['Country or region', 'name', 'region', 'sub-region'], axis=1)\n",
        "numeric_features=numeric_features.columns.tolist()\n",
        "\n",
        "numeric_transformer = Pipeline(steps=[\n",
        "    ('imputer', SimpleImputer(strategy='median')),\n",
        "    ('scaler', StandardScaler())])\n",
        "\n",
        "categorical_features = ['region', 'sub-region']\n",
        "\n",
        "#Replacing missing values with Modal value and then one hot encoding.\n",
        "categorical_transformer = Pipeline(steps=[\n",
        "    ('imputer', SimpleImputer(strategy='most_frequent')),\n",
        "    ('onehot', OneHotEncoder(handle_unknown='ignore'))])\n",
        "\n",
        "# final preprocessor object set up with ColumnTransformer\n",
        "preprocessor = ColumnTransformer(\n",
        "    transformers=[\n",
        "        ('num', numeric_transformer, numeric_features),\n",
        "        ('cat', categorical_transformer, categorical_features)])\n",
        "\n",
        "#Fit your preprocessor object\n",
        "preprocess=preprocessor.fit(X_train)"
      ]
    },
    {
      "cell_type": "code",
      "execution_count": 44,
      "metadata": {
        "id": "fPugttFDXwt7"
      },
      "outputs": [],
      "source": [
        "# Write function to transform data with preprocessor\n",
        "\n",
        "def preprocessor(data):\n",
        "    data.drop(['Country or region', 'name','Social support', 'Healthy life expectancy'], axis=1)\n",
        "    preprocessed_data=preprocess.transform(data)\n",
        "    return preprocessed_data"
      ]
    },
    {
      "cell_type": "code",
      "execution_count": 45,
      "metadata": {
        "colab": {
          "base_uri": "https://localhost:8080/"
        },
        "id": "ccLU5rMyXy_i",
        "outputId": "e5d69921-25ea-4faa-cb00-cefaeb5d20df"
      },
      "outputs": [
        {
          "output_type": "execute_result",
          "data": {
            "text/plain": [
              "(88, 26)"
            ]
          },
          "metadata": {},
          "execution_count": 45
        }
      ],
      "source": [
        "# check shape of X data after preprocessing it using our new function\n",
        "preprocessor(X_train).shape"
      ]
    },
    {
      "cell_type": "markdown",
      "metadata": {
        "id": "_gmXu4FdX3uw"
      },
      "source": [
        "## 3. Fit model on preprocessed data and save preprocessor function and model"
      ]
    },
    {
      "cell_type": "code",
      "execution_count": null,
      "metadata": {
        "colab": {
          "base_uri": "https://localhost:8080/"
        },
        "id": "HhUQ7vdCX5ek",
        "outputId": "a8be42bf-d717-4b2b-ddc2-5a00ed82700d"
      },
      "outputs": [
        {
          "data": {
            "text/plain": [
              "ExtraTreesClassifier(bootstrap='false', class_weight='balanced',\n",
              "                     max_features=0.6, min_samples_leaf=0.1,\n",
              "                     min_samples_split=0.1, n_estimators=200,\n",
              "                     oob_score='false')"
            ]
          },
          "execution_count": 75,
          "metadata": {},
          "output_type": "execute_result"
        }
      ],
      "source": [
        "# fit model with ExtraTreesClassifier\n",
        "from sklearn.ensemble import ExtraTreesClassifier\n",
        "model = ExtraTreesClassifier(bootstrap = 'false',\n",
        "        class_weight =  \"balanced\",\n",
        "        criterion = \"gini\",\n",
        "        max_features = 0.6,\n",
        "        min_samples_leaf = 0.1,\n",
        "        min_samples_split = 0.1,\n",
        "        n_estimators = 200,\n",
        "        oob_score = 'false')\n",
        "model.fit(preprocessor(X_train), y_train_labels)"
      ]
    },
    {
      "cell_type": "markdown",
      "metadata": {
        "id": "11iT0Pm1X-zK"
      },
      "source": [
        "### Save preprocessor function to local \"preprocessor.zip\" file"
      ]
    },
    {
      "cell_type": "code",
      "execution_count": 46,
      "metadata": {
        "colab": {
          "base_uri": "https://localhost:8080/"
        },
        "id": "r8ykYHVnX79i",
        "outputId": "84c648f2-3b98-4168-c12b-eda8326a58a6"
      },
      "outputs": [
        {
          "output_type": "stream",
          "name": "stdout",
          "text": [
            "Your preprocessor is now saved to 'preprocessor.zip'\n"
          ]
        }
      ],
      "source": [
        "ai.export_preprocessor(preprocessor,\"\")"
      ]
    },
    {
      "cell_type": "markdown",
      "metadata": {
        "id": "Ck0ZXkfDYCZK"
      },
      "source": [
        "### Save model to local \".onnx\" file"
      ]
    },
    {
      "cell_type": "code",
      "execution_count": null,
      "metadata": {
        "id": "jhwQOLWtYFE3"
      },
      "outputs": [],
      "source": [
        "# Save sklearn model to local ONNX file\n",
        "from aimodelshare.aimsonnx import model_to_onnx\n",
        "\n",
        "# Check how many preprocessed input features are there?\n",
        "from skl2onnx.common.data_types import FloatTensorType\n",
        "\n",
        "feature_count=preprocessor(X_test).shape[1] #Get count of preprocessed features\n",
        "initial_type = [('float_input', FloatTensorType([None, feature_count]))]  #Insert correct number of preprocessed features\n",
        "\n",
        "onnx_model = model_to_onnx(model, framework='sklearn',\n",
        "                          initial_types=initial_type,\n",
        "                          transfer_learning=False,\n",
        "                          deep_learning=False)\n",
        "\n",
        "with open(\"model.onnx\", \"wb\") as f:\n",
        "    f.write(onnx_model.SerializeToString())"
      ]
    },
    {
      "cell_type": "markdown",
      "metadata": {
        "id": "AVzkj5_SYeND"
      },
      "source": [
        "## 4. Generate predictions from X_test data and submit model to competition"
      ]
    },
    {
      "cell_type": "code",
      "execution_count": 13,
      "metadata": {
        "colab": {
          "base_uri": "https://localhost:8080/"
        },
        "id": "RtgkM02MDpkO",
        "outputId": "9e68e8f5-b94a-472f-f9eb-43a9b6dafefa"
      },
      "outputs": [
        {
          "output_type": "stream",
          "name": "stdout",
          "text": [
            "AI Modelshare Username:··········\n",
            "AI Modelshare Password:··········\n",
            "AI Model Share login credentials set successfully.\n"
          ]
        }
      ],
      "source": [
        "#Set credentials using modelshare.org username/password\n",
        "\n",
        "from aimodelshare.aws import set_credentials\n",
        "\n",
        "#This is the unique rest api that powers this World Happiness Classification Playground -- make sure to update the apiurl for new competition deployments\n",
        "apiurl=\"https://e2w6gh3id1.execute-api.us-east-2.amazonaws.com/prod/m\"\n",
        "\n",
        "set_credentials(apiurl=apiurl)"
      ]
    },
    {
      "cell_type": "code",
      "execution_count": 14,
      "metadata": {
        "id": "KwoJ8r63Ys6j"
      },
      "outputs": [],
      "source": [
        "#Instantiate Competition\n",
        "mycompetition= ai.Competition(apiurl)"
      ]
    },
    {
      "cell_type": "code",
      "execution_count": null,
      "metadata": {
        "colab": {
          "base_uri": "https://localhost:8080/"
        },
        "id": "_Ql4wksyEUnP",
        "outputId": "84df8c15-844e-41e2-b596-9651063e73e8"
      },
      "outputs": [
        {
          "name": "stdout",
          "output_type": "stream",
          "text": [
            "Insert search tags to help users find your model (optional): \n",
            "Provide any useful notes about your model (optional): \n",
            "\n",
            "Your model has been submitted as model version 303\n",
            "\n",
            "To submit code used to create this model or to view current leaderboard navigate to Model Playground: \n",
            "\n",
            " https://www.modelshare.org/detail/model:3164\n"
          ]
        }
      ],
      "source": [
        "#Submit Model 1: \n",
        "\n",
        "#-- Generate predicted values (Model 1)\n",
        "prediction_labels = model.predict(preprocessor(X_test))\n",
        "\n",
        "# Submit Model 1 to Competition Leaderboard\n",
        "mycompetition.submit_model(model_filepath = \"model.onnx\",\n",
        "                                 preprocessor_filepath=\"preprocessor.zip\",\n",
        "                                 prediction_submission=prediction_labels,\n",
        "                                 custom_metadata = {\"team\":\"6\"})"
      ]
    },
    {
      "cell_type": "markdown",
      "metadata": {
        "id": "XBRKZB97cDwq"
      },
      "source": [
        "## 5. Model #2"
      ]
    },
    {
      "cell_type": "code",
      "execution_count": null,
      "metadata": {
        "colab": {
          "base_uri": "https://localhost:8080/"
        },
        "id": "ZFoOthYBcHG2",
        "outputId": "69b3f66c-7345-4e19-c173-27e6a9188ac8"
      },
      "outputs": [
        {
          "data": {
            "text/plain": [
              "GradientBoostingClassifier(learning_rate=1.2, max_depth=1, n_estimators=120,\n",
              "                           random_state=0)"
            ]
          },
          "execution_count": 236,
          "metadata": {},
          "output_type": "execute_result"
        }
      ],
      "source": [
        "# fit model with Gradient Boosting Classifier\n",
        "from sklearn.ensemble import GradientBoostingClassifier\n",
        "model2 = GradientBoostingClassifier(\n",
        "                                   learning_rate=1.2, \n",
        "                                   n_estimators=120, \n",
        "                                   subsample=1.0, \n",
        "                                   criterion='friedman_mse', \n",
        "                                   min_samples_split=2, \n",
        "                                   min_samples_leaf=1, \n",
        "                                   min_weight_fraction_leaf=0.0, \n",
        "                                   max_depth=1,\n",
        "                                   random_state=0)\n",
        "model2.fit(preprocessor(X_train), y_train_labels)"
      ]
    },
    {
      "cell_type": "code",
      "execution_count": null,
      "metadata": {
        "id": "iLM6hdfJk-JV"
      },
      "outputs": [],
      "source": [
        "# Save sklearn model to local ONNX file\n",
        "from aimodelshare.aimsonnx import model_to_onnx\n",
        "\n",
        "feature_count=preprocessor(X_test).shape[1] #Get count of preprocessed features\n",
        "initial_type = [('float_input', FloatTensorType([None, feature_count]))]  # Insert correct number of preprocessed features\n",
        "\n",
        "onnx_model = model_to_onnx(model2, framework='sklearn',\n",
        "                          initial_types=initial_type,\n",
        "                          transfer_learning=False,\n",
        "                          deep_learning=False)\n",
        "\n",
        "with open(\"model2.onnx\", \"wb\") as f:\n",
        "    f.write(onnx_model.SerializeToString())"
      ]
    },
    {
      "cell_type": "code",
      "execution_count": null,
      "metadata": {
        "colab": {
          "base_uri": "https://localhost:8080/"
        },
        "id": "c9cTyRoklTEL",
        "outputId": "5171a532-806f-426a-b6e6-56f74169dbad"
      },
      "outputs": [
        {
          "name": "stdout",
          "output_type": "stream",
          "text": [
            "Insert search tags to help users find your model (optional): \n",
            "Provide any useful notes about your model (optional): \n",
            "\n",
            "Your model has been submitted as model version 328\n",
            "\n",
            "To submit code used to create this model or to view current leaderboard navigate to Model Playground: \n",
            "\n",
            " https://www.modelshare.org/detail/model:3164\n"
          ]
        }
      ],
      "source": [
        "#Submit Model 2: \n",
        "\n",
        "#-- Generate predicted values (Model 2)\n",
        "prediction_labels = model2.predict(preprocessor(X_test))\n",
        "\n",
        "# Submit Model 2 to Competition Leaderboard\n",
        "mycompetition.submit_model(model_filepath = \"model2.onnx\",\n",
        "                                 preprocessor_filepath=\"preprocessor.zip\",\n",
        "                                 prediction_submission=prediction_labels,\n",
        "                                 custom_metadata = {\"team\":\"6\"})"
      ]
    },
    {
      "cell_type": "markdown",
      "metadata": {
        "id": "TNmMWR0HmHlf"
      },
      "source": [
        "## Model 3"
      ]
    },
    {
      "cell_type": "code",
      "execution_count": null,
      "metadata": {
        "colab": {
          "base_uri": "https://localhost:8080/"
        },
        "id": "E2AmnGhbAykI",
        "outputId": "24c1232f-5ded-4d98-ceaa-de9a39f2a89f"
      },
      "outputs": [
        {
          "data": {
            "text/plain": [
              "RandomForestClassifier(max_depth=7)"
            ]
          },
          "execution_count": 80,
          "metadata": {},
          "output_type": "execute_result"
        }
      ],
      "source": [
        "# fit model with Random Forest\n",
        "from sklearn.ensemble import RandomForestClassifier\n",
        "model3 = RandomForestClassifier(max_depth = 7, n_estimators = 100)\n",
        "model3.fit(preprocessor(X_train), y_train_labels)\n"
      ]
    },
    {
      "cell_type": "code",
      "execution_count": null,
      "metadata": {
        "id": "TOSL4UTiJJvu"
      },
      "outputs": [],
      "source": [
        "# Save sklearn model to local ONNX file\n",
        "from aimodelshare.aimsonnx import model_to_onnx\n",
        "\n",
        "feature_count=preprocessor(X_test).shape[1] #Get count of preprocessed features\n",
        "initial_type = [('float_input', FloatTensorType([None, feature_count]))]  # Insert correct number of preprocessed features\n",
        "\n",
        "onnx_model = model_to_onnx(model3, framework='sklearn',\n",
        "                          initial_types=initial_type,\n",
        "                          transfer_learning=False,\n",
        "                          deep_learning=False)\n",
        "\n",
        "with open(\"model3.onnx\", \"wb\") as f:\n",
        "    f.write(onnx_model.SerializeToString())"
      ]
    },
    {
      "cell_type": "code",
      "execution_count": null,
      "metadata": {
        "colab": {
          "base_uri": "https://localhost:8080/"
        },
        "id": "HBJMoxCNKjQH",
        "outputId": "c3cd6654-7650-46b9-d58d-bb843ca4a62b"
      },
      "outputs": [
        {
          "name": "stdout",
          "output_type": "stream",
          "text": [
            "Insert search tags to help users find your model (optional): \n",
            "Provide any useful notes about your model (optional): \n",
            "\n",
            "Your model has been submitted as model version 304\n",
            "\n",
            "To submit code used to create this model or to view current leaderboard navigate to Model Playground: \n",
            "\n",
            " https://www.modelshare.org/detail/model:3164\n"
          ]
        }
      ],
      "source": [
        "#Submit Model 3: \n",
        "\n",
        "#-- Generate predicted values (Model 3)\n",
        "prediction_labels = model3.predict(preprocessor(X_test))\n",
        "\n",
        "# Submit Model 3 to Competition Leaderboard\n",
        "mycompetition.submit_model(model_filepath = \"model3.onnx\",\n",
        "                                 preprocessor_filepath=\"preprocessor.zip\",\n",
        "                                 prediction_submission=prediction_labels,\n",
        "                                 custom_metadata = {\"team\":\"6\"})"
      ]
    },
    {
      "cell_type": "code",
      "execution_count": null,
      "metadata": {
        "id": "9nDnDFSk5XZ9",
        "outputId": "b874f371-c15c-4b02-cae7-0624b9cc1e9b"
      },
      "outputs": [
        {
          "data": {
            "text/html": [
              "<style type=\"text/css\">\n",
              "#T_1989e caption {\n",
              "  color: black;\n",
              "  font-size: 18px;\n",
              "}\n",
              "#T_1989e_row3_col2, #T_1989e_row3_col3, #T_1989e_row3_col4, #T_1989e_row3_col5, #T_1989e_row3_col6, #T_1989e_row3_col7, #T_1989e_row5_col2, #T_1989e_row5_col3, #T_1989e_row5_col4, #T_1989e_row5_col5, #T_1989e_row5_col6, #T_1989e_row5_col7, #T_1989e_row13_col7, #T_1989e_row15_col5, #T_1989e_row15_col6, #T_1989e_row15_col7 {\n",
              "  background: tomato;\n",
              "}\n",
              "</style>\n",
              "<table id=\"T_1989e\">\n",
              "  <caption>Model type: GradientBoostingClassifier</caption>\n",
              "  <thead>\n",
              "    <tr>\n",
              "      <th class=\"blank level0\" >&nbsp;</th>\n",
              "      <th id=\"T_1989e_level0_col0\" class=\"col_heading level0 col0\" >param_name</th>\n",
              "      <th id=\"T_1989e_level0_col1\" class=\"col_heading level0 col1\" >default_value</th>\n",
              "      <th id=\"T_1989e_level0_col2\" class=\"col_heading level0 col2\" >model_version_324</th>\n",
              "      <th id=\"T_1989e_level0_col3\" class=\"col_heading level0 col3\" >model_version_312</th>\n",
              "      <th id=\"T_1989e_level0_col4\" class=\"col_heading level0 col4\" >model_version_305</th>\n",
              "      <th id=\"T_1989e_level0_col5\" class=\"col_heading level0 col5\" >model_version_299</th>\n",
              "      <th id=\"T_1989e_level0_col6\" class=\"col_heading level0 col6\" >model_version_58</th>\n",
              "      <th id=\"T_1989e_level0_col7\" class=\"col_heading level0 col7\" >model_version_66</th>\n",
              "    </tr>\n",
              "  </thead>\n",
              "  <tbody>\n",
              "    <tr>\n",
              "      <th id=\"T_1989e_level0_row0\" class=\"row_heading level0 row0\" >0</th>\n",
              "      <td id=\"T_1989e_row0_col0\" class=\"data row0 col0\" >ccp_alpha</td>\n",
              "      <td id=\"T_1989e_row0_col1\" class=\"data row0 col1\" >0.000000</td>\n",
              "      <td id=\"T_1989e_row0_col2\" class=\"data row0 col2\" >0.000000</td>\n",
              "      <td id=\"T_1989e_row0_col3\" class=\"data row0 col3\" >0.000000</td>\n",
              "      <td id=\"T_1989e_row0_col4\" class=\"data row0 col4\" >0.000000</td>\n",
              "      <td id=\"T_1989e_row0_col5\" class=\"data row0 col5\" >0.000000</td>\n",
              "      <td id=\"T_1989e_row0_col6\" class=\"data row0 col6\" >0.000000</td>\n",
              "      <td id=\"T_1989e_row0_col7\" class=\"data row0 col7\" >0.000000</td>\n",
              "    </tr>\n",
              "    <tr>\n",
              "      <th id=\"T_1989e_level0_row1\" class=\"row_heading level0 row1\" >1</th>\n",
              "      <td id=\"T_1989e_row1_col0\" class=\"data row1 col0\" >criterion</td>\n",
              "      <td id=\"T_1989e_row1_col1\" class=\"data row1 col1\" >friedman_mse</td>\n",
              "      <td id=\"T_1989e_row1_col2\" class=\"data row1 col2\" >friedman_mse</td>\n",
              "      <td id=\"T_1989e_row1_col3\" class=\"data row1 col3\" >friedman_mse</td>\n",
              "      <td id=\"T_1989e_row1_col4\" class=\"data row1 col4\" >friedman_mse</td>\n",
              "      <td id=\"T_1989e_row1_col5\" class=\"data row1 col5\" >friedman_mse</td>\n",
              "      <td id=\"T_1989e_row1_col6\" class=\"data row1 col6\" >friedman_mse</td>\n",
              "      <td id=\"T_1989e_row1_col7\" class=\"data row1 col7\" >friedman_mse</td>\n",
              "    </tr>\n",
              "    <tr>\n",
              "      <th id=\"T_1989e_level0_row2\" class=\"row_heading level0 row2\" >2</th>\n",
              "      <td id=\"T_1989e_row2_col0\" class=\"data row2 col0\" >init</td>\n",
              "      <td id=\"T_1989e_row2_col1\" class=\"data row2 col1\" >None</td>\n",
              "      <td id=\"T_1989e_row2_col2\" class=\"data row2 col2\" >None</td>\n",
              "      <td id=\"T_1989e_row2_col3\" class=\"data row2 col3\" >None</td>\n",
              "      <td id=\"T_1989e_row2_col4\" class=\"data row2 col4\" >None</td>\n",
              "      <td id=\"T_1989e_row2_col5\" class=\"data row2 col5\" >None</td>\n",
              "      <td id=\"T_1989e_row2_col6\" class=\"data row2 col6\" >None</td>\n",
              "      <td id=\"T_1989e_row2_col7\" class=\"data row2 col7\" >None</td>\n",
              "    </tr>\n",
              "    <tr>\n",
              "      <th id=\"T_1989e_level0_row3\" class=\"row_heading level0 row3\" >3</th>\n",
              "      <td id=\"T_1989e_row3_col0\" class=\"data row3 col0\" >learning_rate</td>\n",
              "      <td id=\"T_1989e_row3_col1\" class=\"data row3 col1\" >0.100000</td>\n",
              "      <td id=\"T_1989e_row3_col2\" class=\"data row3 col2\" >1.200000</td>\n",
              "      <td id=\"T_1989e_row3_col3\" class=\"data row3 col3\" >1.200000</td>\n",
              "      <td id=\"T_1989e_row3_col4\" class=\"data row3 col4\" >1.200000</td>\n",
              "      <td id=\"T_1989e_row3_col5\" class=\"data row3 col5\" >1.300000</td>\n",
              "      <td id=\"T_1989e_row3_col6\" class=\"data row3 col6\" >1.300000</td>\n",
              "      <td id=\"T_1989e_row3_col7\" class=\"data row3 col7\" >1.200000</td>\n",
              "    </tr>\n",
              "    <tr>\n",
              "      <th id=\"T_1989e_level0_row4\" class=\"row_heading level0 row4\" >4</th>\n",
              "      <td id=\"T_1989e_row4_col0\" class=\"data row4 col0\" >loss</td>\n",
              "      <td id=\"T_1989e_row4_col1\" class=\"data row4 col1\" >deviance</td>\n",
              "      <td id=\"T_1989e_row4_col2\" class=\"data row4 col2\" >deviance</td>\n",
              "      <td id=\"T_1989e_row4_col3\" class=\"data row4 col3\" >deviance</td>\n",
              "      <td id=\"T_1989e_row4_col4\" class=\"data row4 col4\" >deviance</td>\n",
              "      <td id=\"T_1989e_row4_col5\" class=\"data row4 col5\" >deviance</td>\n",
              "      <td id=\"T_1989e_row4_col6\" class=\"data row4 col6\" >deviance</td>\n",
              "      <td id=\"T_1989e_row4_col7\" class=\"data row4 col7\" >deviance</td>\n",
              "    </tr>\n",
              "    <tr>\n",
              "      <th id=\"T_1989e_level0_row5\" class=\"row_heading level0 row5\" >5</th>\n",
              "      <td id=\"T_1989e_row5_col0\" class=\"data row5 col0\" >max_depth</td>\n",
              "      <td id=\"T_1989e_row5_col1\" class=\"data row5 col1\" >3</td>\n",
              "      <td id=\"T_1989e_row5_col2\" class=\"data row5 col2\" >1</td>\n",
              "      <td id=\"T_1989e_row5_col3\" class=\"data row5 col3\" >1</td>\n",
              "      <td id=\"T_1989e_row5_col4\" class=\"data row5 col4\" >1</td>\n",
              "      <td id=\"T_1989e_row5_col5\" class=\"data row5 col5\" >1</td>\n",
              "      <td id=\"T_1989e_row5_col6\" class=\"data row5 col6\" >1</td>\n",
              "      <td id=\"T_1989e_row5_col7\" class=\"data row5 col7\" >1</td>\n",
              "    </tr>\n",
              "    <tr>\n",
              "      <th id=\"T_1989e_level0_row6\" class=\"row_heading level0 row6\" >6</th>\n",
              "      <td id=\"T_1989e_row6_col0\" class=\"data row6 col0\" >max_features</td>\n",
              "      <td id=\"T_1989e_row6_col1\" class=\"data row6 col1\" >None</td>\n",
              "      <td id=\"T_1989e_row6_col2\" class=\"data row6 col2\" >None</td>\n",
              "      <td id=\"T_1989e_row6_col3\" class=\"data row6 col3\" >None</td>\n",
              "      <td id=\"T_1989e_row6_col4\" class=\"data row6 col4\" >None</td>\n",
              "      <td id=\"T_1989e_row6_col5\" class=\"data row6 col5\" >None</td>\n",
              "      <td id=\"T_1989e_row6_col6\" class=\"data row6 col6\" >None</td>\n",
              "      <td id=\"T_1989e_row6_col7\" class=\"data row6 col7\" >None</td>\n",
              "    </tr>\n",
              "    <tr>\n",
              "      <th id=\"T_1989e_level0_row7\" class=\"row_heading level0 row7\" >7</th>\n",
              "      <td id=\"T_1989e_row7_col0\" class=\"data row7 col0\" >max_leaf_nodes</td>\n",
              "      <td id=\"T_1989e_row7_col1\" class=\"data row7 col1\" >None</td>\n",
              "      <td id=\"T_1989e_row7_col2\" class=\"data row7 col2\" >None</td>\n",
              "      <td id=\"T_1989e_row7_col3\" class=\"data row7 col3\" >None</td>\n",
              "      <td id=\"T_1989e_row7_col4\" class=\"data row7 col4\" >None</td>\n",
              "      <td id=\"T_1989e_row7_col5\" class=\"data row7 col5\" >None</td>\n",
              "      <td id=\"T_1989e_row7_col6\" class=\"data row7 col6\" >None</td>\n",
              "      <td id=\"T_1989e_row7_col7\" class=\"data row7 col7\" >None</td>\n",
              "    </tr>\n",
              "    <tr>\n",
              "      <th id=\"T_1989e_level0_row8\" class=\"row_heading level0 row8\" >8</th>\n",
              "      <td id=\"T_1989e_row8_col0\" class=\"data row8 col0\" >min_impurity_decrease</td>\n",
              "      <td id=\"T_1989e_row8_col1\" class=\"data row8 col1\" >0.000000</td>\n",
              "      <td id=\"T_1989e_row8_col2\" class=\"data row8 col2\" >0.000000</td>\n",
              "      <td id=\"T_1989e_row8_col3\" class=\"data row8 col3\" >0.000000</td>\n",
              "      <td id=\"T_1989e_row8_col4\" class=\"data row8 col4\" >0.000000</td>\n",
              "      <td id=\"T_1989e_row8_col5\" class=\"data row8 col5\" >0.000000</td>\n",
              "      <td id=\"T_1989e_row8_col6\" class=\"data row8 col6\" >0.000000</td>\n",
              "      <td id=\"T_1989e_row8_col7\" class=\"data row8 col7\" >0.000000</td>\n",
              "    </tr>\n",
              "    <tr>\n",
              "      <th id=\"T_1989e_level0_row9\" class=\"row_heading level0 row9\" >9</th>\n",
              "      <td id=\"T_1989e_row9_col0\" class=\"data row9 col0\" >min_impurity_split</td>\n",
              "      <td id=\"T_1989e_row9_col1\" class=\"data row9 col1\" >None</td>\n",
              "      <td id=\"T_1989e_row9_col2\" class=\"data row9 col2\" >None</td>\n",
              "      <td id=\"T_1989e_row9_col3\" class=\"data row9 col3\" >None</td>\n",
              "      <td id=\"T_1989e_row9_col4\" class=\"data row9 col4\" >None</td>\n",
              "      <td id=\"T_1989e_row9_col5\" class=\"data row9 col5\" >None</td>\n",
              "      <td id=\"T_1989e_row9_col6\" class=\"data row9 col6\" >None</td>\n",
              "      <td id=\"T_1989e_row9_col7\" class=\"data row9 col7\" >None</td>\n",
              "    </tr>\n",
              "    <tr>\n",
              "      <th id=\"T_1989e_level0_row10\" class=\"row_heading level0 row10\" >10</th>\n",
              "      <td id=\"T_1989e_row10_col0\" class=\"data row10 col0\" >min_samples_leaf</td>\n",
              "      <td id=\"T_1989e_row10_col1\" class=\"data row10 col1\" >1</td>\n",
              "      <td id=\"T_1989e_row10_col2\" class=\"data row10 col2\" >1</td>\n",
              "      <td id=\"T_1989e_row10_col3\" class=\"data row10 col3\" >1</td>\n",
              "      <td id=\"T_1989e_row10_col4\" class=\"data row10 col4\" >1</td>\n",
              "      <td id=\"T_1989e_row10_col5\" class=\"data row10 col5\" >1</td>\n",
              "      <td id=\"T_1989e_row10_col6\" class=\"data row10 col6\" >1</td>\n",
              "      <td id=\"T_1989e_row10_col7\" class=\"data row10 col7\" >1</td>\n",
              "    </tr>\n",
              "    <tr>\n",
              "      <th id=\"T_1989e_level0_row11\" class=\"row_heading level0 row11\" >11</th>\n",
              "      <td id=\"T_1989e_row11_col0\" class=\"data row11 col0\" >min_samples_split</td>\n",
              "      <td id=\"T_1989e_row11_col1\" class=\"data row11 col1\" >2</td>\n",
              "      <td id=\"T_1989e_row11_col2\" class=\"data row11 col2\" >2</td>\n",
              "      <td id=\"T_1989e_row11_col3\" class=\"data row11 col3\" >2</td>\n",
              "      <td id=\"T_1989e_row11_col4\" class=\"data row11 col4\" >2</td>\n",
              "      <td id=\"T_1989e_row11_col5\" class=\"data row11 col5\" >2</td>\n",
              "      <td id=\"T_1989e_row11_col6\" class=\"data row11 col6\" >2</td>\n",
              "      <td id=\"T_1989e_row11_col7\" class=\"data row11 col7\" >2</td>\n",
              "    </tr>\n",
              "    <tr>\n",
              "      <th id=\"T_1989e_level0_row12\" class=\"row_heading level0 row12\" >12</th>\n",
              "      <td id=\"T_1989e_row12_col0\" class=\"data row12 col0\" >min_weight_fraction_leaf</td>\n",
              "      <td id=\"T_1989e_row12_col1\" class=\"data row12 col1\" >0.000000</td>\n",
              "      <td id=\"T_1989e_row12_col2\" class=\"data row12 col2\" >0.000000</td>\n",
              "      <td id=\"T_1989e_row12_col3\" class=\"data row12 col3\" >0.000000</td>\n",
              "      <td id=\"T_1989e_row12_col4\" class=\"data row12 col4\" >0.000000</td>\n",
              "      <td id=\"T_1989e_row12_col5\" class=\"data row12 col5\" >0.000000</td>\n",
              "      <td id=\"T_1989e_row12_col6\" class=\"data row12 col6\" >0.000000</td>\n",
              "      <td id=\"T_1989e_row12_col7\" class=\"data row12 col7\" >0.000000</td>\n",
              "    </tr>\n",
              "    <tr>\n",
              "      <th id=\"T_1989e_level0_row13\" class=\"row_heading level0 row13\" >13</th>\n",
              "      <td id=\"T_1989e_row13_col0\" class=\"data row13 col0\" >n_estimators</td>\n",
              "      <td id=\"T_1989e_row13_col1\" class=\"data row13 col1\" >100</td>\n",
              "      <td id=\"T_1989e_row13_col2\" class=\"data row13 col2\" >100</td>\n",
              "      <td id=\"T_1989e_row13_col3\" class=\"data row13 col3\" >100</td>\n",
              "      <td id=\"T_1989e_row13_col4\" class=\"data row13 col4\" >100</td>\n",
              "      <td id=\"T_1989e_row13_col5\" class=\"data row13 col5\" >100</td>\n",
              "      <td id=\"T_1989e_row13_col6\" class=\"data row13 col6\" >100</td>\n",
              "      <td id=\"T_1989e_row13_col7\" class=\"data row13 col7\" >130</td>\n",
              "    </tr>\n",
              "    <tr>\n",
              "      <th id=\"T_1989e_level0_row14\" class=\"row_heading level0 row14\" >14</th>\n",
              "      <td id=\"T_1989e_row14_col0\" class=\"data row14 col0\" >n_iter_no_change</td>\n",
              "      <td id=\"T_1989e_row14_col1\" class=\"data row14 col1\" >None</td>\n",
              "      <td id=\"T_1989e_row14_col2\" class=\"data row14 col2\" >None</td>\n",
              "      <td id=\"T_1989e_row14_col3\" class=\"data row14 col3\" >None</td>\n",
              "      <td id=\"T_1989e_row14_col4\" class=\"data row14 col4\" >None</td>\n",
              "      <td id=\"T_1989e_row14_col5\" class=\"data row14 col5\" >None</td>\n",
              "      <td id=\"T_1989e_row14_col6\" class=\"data row14 col6\" >None</td>\n",
              "      <td id=\"T_1989e_row14_col7\" class=\"data row14 col7\" >None</td>\n",
              "    </tr>\n",
              "    <tr>\n",
              "      <th id=\"T_1989e_level0_row15\" class=\"row_heading level0 row15\" >15</th>\n",
              "      <td id=\"T_1989e_row15_col0\" class=\"data row15 col0\" >random_state</td>\n",
              "      <td id=\"T_1989e_row15_col1\" class=\"data row15 col1\" >None</td>\n",
              "      <td id=\"T_1989e_row15_col2\" class=\"data row15 col2\" >None</td>\n",
              "      <td id=\"T_1989e_row15_col3\" class=\"data row15 col3\" >None</td>\n",
              "      <td id=\"T_1989e_row15_col4\" class=\"data row15 col4\" >None</td>\n",
              "      <td id=\"T_1989e_row15_col5\" class=\"data row15 col5\" >0</td>\n",
              "      <td id=\"T_1989e_row15_col6\" class=\"data row15 col6\" >0</td>\n",
              "      <td id=\"T_1989e_row15_col7\" class=\"data row15 col7\" >0</td>\n",
              "    </tr>\n",
              "    <tr>\n",
              "      <th id=\"T_1989e_level0_row16\" class=\"row_heading level0 row16\" >16</th>\n",
              "      <td id=\"T_1989e_row16_col0\" class=\"data row16 col0\" >subsample</td>\n",
              "      <td id=\"T_1989e_row16_col1\" class=\"data row16 col1\" >1.000000</td>\n",
              "      <td id=\"T_1989e_row16_col2\" class=\"data row16 col2\" >1.000000</td>\n",
              "      <td id=\"T_1989e_row16_col3\" class=\"data row16 col3\" >1.000000</td>\n",
              "      <td id=\"T_1989e_row16_col4\" class=\"data row16 col4\" >1.000000</td>\n",
              "      <td id=\"T_1989e_row16_col5\" class=\"data row16 col5\" >1.000000</td>\n",
              "      <td id=\"T_1989e_row16_col6\" class=\"data row16 col6\" >1.000000</td>\n",
              "      <td id=\"T_1989e_row16_col7\" class=\"data row16 col7\" >1.000000</td>\n",
              "    </tr>\n",
              "    <tr>\n",
              "      <th id=\"T_1989e_level0_row17\" class=\"row_heading level0 row17\" >17</th>\n",
              "      <td id=\"T_1989e_row17_col0\" class=\"data row17 col0\" >tol</td>\n",
              "      <td id=\"T_1989e_row17_col1\" class=\"data row17 col1\" >0.000100</td>\n",
              "      <td id=\"T_1989e_row17_col2\" class=\"data row17 col2\" >0.000100</td>\n",
              "      <td id=\"T_1989e_row17_col3\" class=\"data row17 col3\" >0.000100</td>\n",
              "      <td id=\"T_1989e_row17_col4\" class=\"data row17 col4\" >0.000100</td>\n",
              "      <td id=\"T_1989e_row17_col5\" class=\"data row17 col5\" >0.000100</td>\n",
              "      <td id=\"T_1989e_row17_col6\" class=\"data row17 col6\" >0.000100</td>\n",
              "      <td id=\"T_1989e_row17_col7\" class=\"data row17 col7\" >0.000100</td>\n",
              "    </tr>\n",
              "    <tr>\n",
              "      <th id=\"T_1989e_level0_row18\" class=\"row_heading level0 row18\" >18</th>\n",
              "      <td id=\"T_1989e_row18_col0\" class=\"data row18 col0\" >validation_fraction</td>\n",
              "      <td id=\"T_1989e_row18_col1\" class=\"data row18 col1\" >0.100000</td>\n",
              "      <td id=\"T_1989e_row18_col2\" class=\"data row18 col2\" >0.100000</td>\n",
              "      <td id=\"T_1989e_row18_col3\" class=\"data row18 col3\" >0.100000</td>\n",
              "      <td id=\"T_1989e_row18_col4\" class=\"data row18 col4\" >0.100000</td>\n",
              "      <td id=\"T_1989e_row18_col5\" class=\"data row18 col5\" >0.100000</td>\n",
              "      <td id=\"T_1989e_row18_col6\" class=\"data row18 col6\" >0.100000</td>\n",
              "      <td id=\"T_1989e_row18_col7\" class=\"data row18 col7\" >0.100000</td>\n",
              "    </tr>\n",
              "    <tr>\n",
              "      <th id=\"T_1989e_level0_row19\" class=\"row_heading level0 row19\" >19</th>\n",
              "      <td id=\"T_1989e_row19_col0\" class=\"data row19 col0\" >verbose</td>\n",
              "      <td id=\"T_1989e_row19_col1\" class=\"data row19 col1\" >0</td>\n",
              "      <td id=\"T_1989e_row19_col2\" class=\"data row19 col2\" >0</td>\n",
              "      <td id=\"T_1989e_row19_col3\" class=\"data row19 col3\" >0</td>\n",
              "      <td id=\"T_1989e_row19_col4\" class=\"data row19 col4\" >0</td>\n",
              "      <td id=\"T_1989e_row19_col5\" class=\"data row19 col5\" >0</td>\n",
              "      <td id=\"T_1989e_row19_col6\" class=\"data row19 col6\" >0</td>\n",
              "      <td id=\"T_1989e_row19_col7\" class=\"data row19 col7\" >0</td>\n",
              "    </tr>\n",
              "    <tr>\n",
              "      <th id=\"T_1989e_level0_row20\" class=\"row_heading level0 row20\" >20</th>\n",
              "      <td id=\"T_1989e_row20_col0\" class=\"data row20 col0\" >warm_start</td>\n",
              "      <td id=\"T_1989e_row20_col1\" class=\"data row20 col1\" >False</td>\n",
              "      <td id=\"T_1989e_row20_col2\" class=\"data row20 col2\" >False</td>\n",
              "      <td id=\"T_1989e_row20_col3\" class=\"data row20 col3\" >False</td>\n",
              "      <td id=\"T_1989e_row20_col4\" class=\"data row20 col4\" >False</td>\n",
              "      <td id=\"T_1989e_row20_col5\" class=\"data row20 col5\" >False</td>\n",
              "      <td id=\"T_1989e_row20_col6\" class=\"data row20 col6\" >False</td>\n",
              "      <td id=\"T_1989e_row20_col7\" class=\"data row20 col7\" >False</td>\n",
              "    </tr>\n",
              "  </tbody>\n",
              "</table>\n"
            ],
            "text/plain": [
              "<IPython.core.display.HTML object>"
            ]
          },
          "metadata": {},
          "output_type": "display_data"
        },
        {
          "name": "stdout",
          "output_type": "stream",
          "text": [
            "\n",
            "\n",
            "\n"
          ]
        }
      ],
      "source": [
        "# Compare two or more models\n",
        "data=mycompetition.compare_models([324,312,305,299,58,66], verbose=1)\n",
        "mycompetition.stylize_compare(data)"
      ]
    },
    {
      "cell_type": "markdown",
      "metadata": {
        "id": "a_f6H48nUWoU"
      },
      "source": [
        "### My best model was gradient boosting classifier with 1.2 learning rate and 1 max_depth.\n",
        "### After communicating with my team I tried out three other different models.\n",
        "## Model 4"
      ]
    },
    {
      "cell_type": "code",
      "execution_count": 15,
      "metadata": {
        "colab": {
          "base_uri": "https://localhost:8080/"
        },
        "id": "SgSZliUWUkrn",
        "outputId": "1664fa96-554e-429a-a7ee-5d31142966d6"
      },
      "outputs": [
        {
          "output_type": "execute_result",
          "data": {
            "text/plain": [
              "(88, 26)"
            ]
          },
          "metadata": {},
          "execution_count": 15
        }
      ],
      "source": [
        "preprocessor(X_train).shape"
      ]
    },
    {
      "cell_type": "code",
      "execution_count": 16,
      "metadata": {
        "id": "jFcFDUUJUZip"
      },
      "outputs": [],
      "source": [
        "model4 = Sequential([Dense(500, \n",
        "            input_shape=(26, )),\n",
        "        Activation('relu'),\n",
        "        Dense(500),\n",
        "        Dense(500),\n",
        "        Activation('relu'),\n",
        "        Dense(200),\n",
        "        Dense(200),\n",
        "        Activation('relu'),\n",
        "        Dense(50),\n",
        "        Dense(50),\n",
        "        Activation('relu'),\n",
        "        Dense(5),\n",
        "        Activation('softmax')])\n",
        "\n",
        "model4.compile('sgd','categorical_crossentropy',metrics=['accuracy'])"
      ]
    },
    {
      "cell_type": "code",
      "execution_count": 18,
      "metadata": {
        "colab": {
          "base_uri": "https://localhost:8080/"
        },
        "id": "d0GP9EcLlE_R",
        "outputId": "778dfcab-dbc6-49c3-a05d-ae89c226f9fb"
      },
      "outputs": [
        {
          "output_type": "stream",
          "name": "stdout",
          "text": [
            "Epoch 1/10\n",
            "88/88 [==============================] - 1s 12ms/step - loss: 1.5064 - accuracy: 0.4091\n",
            "Epoch 2/10\n",
            "88/88 [==============================] - 1s 12ms/step - loss: 1.1611 - accuracy: 0.5568\n",
            "Epoch 3/10\n",
            "88/88 [==============================] - 1s 16ms/step - loss: 0.9284 - accuracy: 0.6818\n",
            "Epoch 4/10\n",
            "88/88 [==============================] - 2s 18ms/step - loss: 0.8034 - accuracy: 0.6591\n",
            "Epoch 5/10\n",
            "88/88 [==============================] - 1s 15ms/step - loss: 0.7433 - accuracy: 0.7045\n",
            "Epoch 6/10\n",
            "88/88 [==============================] - 1s 14ms/step - loss: 0.6804 - accuracy: 0.7045\n",
            "Epoch 7/10\n",
            "88/88 [==============================] - 2s 18ms/step - loss: 0.6041 - accuracy: 0.8068\n",
            "Epoch 8/10\n",
            "88/88 [==============================] - 1s 14ms/step - loss: 0.5596 - accuracy: 0.7727\n",
            "Epoch 9/10\n",
            "88/88 [==============================] - 1s 10ms/step - loss: 0.3958 - accuracy: 0.8977\n",
            "Epoch 10/10\n",
            "88/88 [==============================] - 0s 5ms/step - loss: 0.3808 - accuracy: 0.9091\n"
          ]
        },
        {
          "output_type": "execute_result",
          "data": {
            "text/plain": [
              "<keras.callbacks.History at 0x7fb46c0d6d00>"
            ]
          },
          "metadata": {},
          "execution_count": 18
        }
      ],
      "source": [
        "model4.fit(preprocessor(X_train), y_train, batch_size = 1, epochs = 10)"
      ]
    },
    {
      "cell_type": "code",
      "execution_count": 21,
      "metadata": {
        "id": "wouU9yJ4VW4s"
      },
      "outputs": [],
      "source": [
        "# Save sklearn model to local ONNX file\n",
        "from aimodelshare.aimsonnx import model_to_onnx\n",
        "from onnxmltools.convert.sparkml.utils import FloatTensorType\n",
        "\n",
        "feature_count=preprocessor(X_test).shape[1] #Get count of preprocessed features\n",
        "initial_type = [('float_input', FloatTensorType([None, feature_count]))]  # Insert correct number of preprocessed features\n",
        "\n",
        "onnx_model = model_to_onnx(model4, framework='keras',\n",
        "                          initial_types=initial_type,\n",
        "                          transfer_learning=False,\n",
        "                          deep_learning=True)\n",
        "\n",
        "with open(\"model4.onnx\", \"wb\") as f:\n",
        "    f.write(onnx_model.SerializeToString())"
      ]
    },
    {
      "cell_type": "code",
      "execution_count": 27,
      "metadata": {
        "colab": {
          "base_uri": "https://localhost:8080/"
        },
        "id": "In7Hg52hVh3P",
        "outputId": "77f80c9d-0579-478b-e7a4-6b46e1933207"
      },
      "outputs": [
        {
          "output_type": "stream",
          "name": "stdout",
          "text": [
            "68/68 [==============================] - 0s 2ms/step\n",
            "Insert search tags to help users find your model (optional): \n",
            "Provide any useful notes about your model (optional): \n",
            "\n",
            "Your model has been submitted as model version 537\n",
            "\n",
            "To submit code used to create this model or to view current leaderboard navigate to Model Playground: \n",
            "\n",
            " https://www.modelshare.org/detail/model:3164\n"
          ]
        }
      ],
      "source": [
        "#Submit Model 4: \n",
        "\n",
        "#-- Generate predicted values (Model 4)\n",
        "prediction_labels = model4.predict(preprocessor(X_test), batch_size = 1)\n",
        "y_classes = prediction_labels.argmax(axis=-1)\n",
        "labels = ['Average', 'High', 'Low', 'Very High', 'Very Low']\n",
        "predicted_label = np.array(sorted(labels))[y_classes]\n",
        "\n",
        "# Submit Model 4 to Competition Leaderboard\n",
        "mycompetition.submit_model(model_filepath = \"model4.onnx\",\n",
        "                                 preprocessor_filepath=\"preprocessor.zip\",\n",
        "                                 prediction_submission=predicted_label,\n",
        "                                 custom_metadata = {\"team\":\"6\"})"
      ]
    },
    {
      "cell_type": "markdown",
      "metadata": {
        "id": "Jy62xz585XZ_"
      },
      "source": [
        "## Model 5"
      ]
    },
    {
      "cell_type": "code",
      "execution_count": 63,
      "metadata": {
        "id": "KzjxCLVH5XZ_"
      },
      "outputs": [],
      "source": [
        "model5 = Sequential([Dense(100, \n",
        "            input_shape=(26, )),\n",
        "        Activation('relu'),\n",
        "                Dense(200),\n",
        "        Dense(200),\n",
        "        Activation('relu'),\n",
        "                Dense(100),\n",
        "        Dense(100),\n",
        "        Activation('relu'),\n",
        "                Dense(50),\n",
        "        Dense(50),\n",
        "        Activation('relu'),\n",
        "                        Dense(32),\n",
        "        Dense(32),\n",
        "        Activation('relu'),\n",
        "        Dense(5),\n",
        "        Activation('softmax')])\n",
        "\n",
        "model5.compile('sgd','categorical_crossentropy',metrics=['accuracy'])"
      ]
    },
    {
      "cell_type": "code",
      "source": [
        "model5.fit(preprocessor(X_train), y_train, batch_size = 1, epochs = 10)"
      ],
      "metadata": {
        "colab": {
          "base_uri": "https://localhost:8080/"
        },
        "id": "30TvwkvO72Zn",
        "outputId": "524208ff-4106-4445-fe92-05f6d4bfba16"
      },
      "execution_count": 64,
      "outputs": [
        {
          "output_type": "stream",
          "name": "stdout",
          "text": [
            "Epoch 1/10\n",
            "88/88 [==============================] - 1s 3ms/step - loss: 1.5346 - accuracy: 0.4318\n",
            "Epoch 2/10\n",
            "88/88 [==============================] - 0s 2ms/step - loss: 1.2906 - accuracy: 0.4886\n",
            "Epoch 3/10\n",
            "88/88 [==============================] - 0s 2ms/step - loss: 1.0786 - accuracy: 0.5114\n",
            "Epoch 4/10\n",
            "88/88 [==============================] - 0s 2ms/step - loss: 0.9554 - accuracy: 0.5341\n",
            "Epoch 5/10\n",
            "88/88 [==============================] - 0s 2ms/step - loss: 0.8417 - accuracy: 0.6023\n",
            "Epoch 6/10\n",
            "88/88 [==============================] - 0s 2ms/step - loss: 0.8387 - accuracy: 0.6364\n",
            "Epoch 7/10\n",
            "88/88 [==============================] - 0s 3ms/step - loss: 0.7776 - accuracy: 0.6023\n",
            "Epoch 8/10\n",
            "88/88 [==============================] - 0s 2ms/step - loss: 0.7500 - accuracy: 0.6250\n",
            "Epoch 9/10\n",
            "88/88 [==============================] - 0s 2ms/step - loss: 0.6897 - accuracy: 0.6932\n",
            "Epoch 10/10\n",
            "88/88 [==============================] - 0s 4ms/step - loss: 0.5830 - accuracy: 0.7273\n"
          ]
        },
        {
          "output_type": "execute_result",
          "data": {
            "text/plain": [
              "<keras.callbacks.History at 0x7fb466c300a0>"
            ]
          },
          "metadata": {},
          "execution_count": 64
        }
      ]
    },
    {
      "cell_type": "code",
      "execution_count": 65,
      "metadata": {
        "id": "TAXivwTw5XaA"
      },
      "outputs": [],
      "source": [
        "# Save sklearn model to local ONNX file\n",
        "from aimodelshare.aimsonnx import model_to_onnx\n",
        "from onnxmltools.convert.sparkml.utils import FloatTensorType\n",
        "\n",
        "feature_count=preprocessor(X_test).shape[1] #Get count of preprocessed features\n",
        "initial_type = [('float_input', FloatTensorType([None, feature_count]))]  # Insert correct number of preprocessed features\n",
        "\n",
        "onnx_model = model_to_onnx(model5, framework='keras',\n",
        "                          initial_types=initial_type,\n",
        "                          transfer_learning=False,\n",
        "                          deep_learning=True)\n",
        "\n",
        "with open(\"model5.onnx\", \"wb\") as f:\n",
        "    f.write(onnx_model.SerializeToString())"
      ]
    },
    {
      "cell_type": "code",
      "source": [
        "#Submit Model 5: \n",
        "\n",
        "#-- Generate predicted values (Model 5)\n",
        "prediction_labels = model5.predict(preprocessor(X_test), batch_size = 1)\n",
        "y_classes = prediction_labels.argmax(axis=-1)\n",
        "labels = ['Average', 'High', 'Low', 'Very High', 'Very Low']\n",
        "predicted_label = np.array(sorted(labels))[y_classes]\n",
        "\n",
        "# Submit Model 5 to Competition Leaderboard\n",
        "mycompetition.submit_model(model_filepath = \"model5.onnx\",\n",
        "                                 preprocessor_filepath=\"preprocessor.zip\",\n",
        "                                 prediction_submission=predicted_label,\n",
        "                                 custom_metadata = {\"team\":\"6\"})"
      ],
      "metadata": {
        "colab": {
          "base_uri": "https://localhost:8080/"
        },
        "id": "koGVHyAS9dJA",
        "outputId": "bae8ea3d-7cbb-47f3-ab59-263ee5e77fc7"
      },
      "execution_count": 66,
      "outputs": [
        {
          "output_type": "stream",
          "name": "stdout",
          "text": [
            "68/68 [==============================] - 0s 3ms/step\n",
            "Insert search tags to help users find your model (optional): \n",
            "Provide any useful notes about your model (optional): \n",
            "\n",
            "Your model has been submitted as model version 539\n",
            "\n",
            "To submit code used to create this model or to view current leaderboard navigate to Model Playground: \n",
            "\n",
            " https://www.modelshare.org/detail/model:3164\n"
          ]
        }
      ]
    },
    {
      "cell_type": "markdown",
      "source": [
        "## Model 6"
      ],
      "metadata": {
        "id": "6rxzrT8t9-xO"
      }
    },
    {
      "cell_type": "code",
      "source": [
        "model6 = Sequential([Dense(100, \n",
        "            input_shape=(26, )),\n",
        "        Activation('relu'),\n",
        "                Dense(200),\n",
        "        Dense(200),\n",
        "        Activation('relu'),\n",
        "                Dense(100),\n",
        "        Dense(100),\n",
        "        Activation('relu'),\n",
        "                Dense(50),\n",
        "        Dense(50),\n",
        "        Activation('relu'),\n",
        "        Dense(5),\n",
        "        Activation('softmax')])\n",
        "\n",
        "model6.compile('sgd','categorical_crossentropy',metrics=['accuracy'])"
      ],
      "metadata": {
        "id": "GDFbaNyF-Ac3"
      },
      "execution_count": 137,
      "outputs": []
    },
    {
      "cell_type": "code",
      "source": [
        "model6.fit(preprocessor(X_train), y_train, batch_size = 1, epochs = 10)"
      ],
      "metadata": {
        "colab": {
          "base_uri": "https://localhost:8080/"
        },
        "id": "XrxzBzE6-Gh_",
        "outputId": "536cb048-8653-44c1-9593-9be4d6b7066a"
      },
      "execution_count": 139,
      "outputs": [
        {
          "output_type": "stream",
          "name": "stdout",
          "text": [
            "Epoch 1/10\n",
            "88/88 [==============================] - 1s 4ms/step - loss: 0.8018 - accuracy: 0.6705\n",
            "Epoch 2/10\n",
            "88/88 [==============================] - 0s 4ms/step - loss: 0.7024 - accuracy: 0.7500\n",
            "Epoch 3/10\n",
            "88/88 [==============================] - 0s 3ms/step - loss: 0.6068 - accuracy: 0.7500\n",
            "Epoch 4/10\n",
            "88/88 [==============================] - 0s 3ms/step - loss: 0.6223 - accuracy: 0.7841\n",
            "Epoch 5/10\n",
            "88/88 [==============================] - 0s 3ms/step - loss: 0.6068 - accuracy: 0.7614\n",
            "Epoch 6/10\n",
            "88/88 [==============================] - 0s 3ms/step - loss: 0.5845 - accuracy: 0.7273\n",
            "Epoch 7/10\n",
            "88/88 [==============================] - 0s 3ms/step - loss: 0.5340 - accuracy: 0.7955\n",
            "Epoch 8/10\n",
            "88/88 [==============================] - 0s 3ms/step - loss: 0.4024 - accuracy: 0.8750\n",
            "Epoch 9/10\n",
            "88/88 [==============================] - 0s 3ms/step - loss: 0.5805 - accuracy: 0.7841\n",
            "Epoch 10/10\n",
            "88/88 [==============================] - 0s 3ms/step - loss: 0.4342 - accuracy: 0.8182\n"
          ]
        },
        {
          "output_type": "execute_result",
          "data": {
            "text/plain": [
              "<keras.callbacks.History at 0x7fb44a003400>"
            ]
          },
          "metadata": {},
          "execution_count": 139
        }
      ]
    },
    {
      "cell_type": "code",
      "source": [
        "# Save sklearn model to local ONNX file\n",
        "from aimodelshare.aimsonnx import model_to_onnx\n",
        "from onnxmltools.convert.sparkml.utils import FloatTensorType\n",
        "\n",
        "feature_count=preprocessor(X_test).shape[1] #Get count of preprocessed features\n",
        "initial_type = [('float_input', FloatTensorType([None, feature_count]))]  # Insert correct number of preprocessed features\n",
        "\n",
        "onnx_model = model_to_onnx(model6, framework='keras',\n",
        "                          initial_types=initial_type,\n",
        "                          transfer_learning=False,\n",
        "                          deep_learning=True)\n",
        "\n",
        "with open(\"model6.onnx\", \"wb\") as f:\n",
        "    f.write(onnx_model.SerializeToString())"
      ],
      "metadata": {
        "id": "vwy904qE-XlU"
      },
      "execution_count": 140,
      "outputs": []
    },
    {
      "cell_type": "code",
      "source": [
        "#Submit Model 6: \n",
        "\n",
        "#-- Generate predicted values (Model 6)\n",
        "prediction_labels = model6.predict(preprocessor(X_test), batch_size = 1)\n",
        "y_classes = prediction_labels.argmax(axis=-1)\n",
        "labels = ['Average', 'High', 'Low', 'Very High', 'Very Low']\n",
        "predicted_label = np.array(sorted(labels))[y_classes]\n",
        "\n",
        "# Submit Model 6 to Competition Leaderboard\n",
        "mycompetition.submit_model(model_filepath = \"model6.onnx\",\n",
        "                                 preprocessor_filepath=\"preprocessor.zip\",\n",
        "                                 prediction_submission=predicted_label,\n",
        "                                 custom_metadata = {\"team\":\"6\"})"
      ],
      "metadata": {
        "colab": {
          "base_uri": "https://localhost:8080/"
        },
        "id": "UwPGS99k-dRX",
        "outputId": "73c31c72-fd8a-4427-cef3-70a8f390537d"
      },
      "execution_count": 142,
      "outputs": [
        {
          "output_type": "stream",
          "name": "stdout",
          "text": [
            "68/68 [==============================] - 0s 2ms/step\n",
            "Insert search tags to help users find your model (optional): \n",
            "Provide any useful notes about your model (optional): \n",
            "\n",
            "Your model has been submitted as model version 547\n",
            "\n",
            "To submit code used to create this model or to view current leaderboard navigate to Model Playground: \n",
            "\n",
            " https://www.modelshare.org/detail/model:3164\n"
          ]
        }
      ]
    },
    {
      "cell_type": "markdown",
      "source": [
        "### The additional three models I tried out after communicating with my teammates are all keras since that's what they used. Model 5 is the one with the highest accuracy.\n",
        "### Github repo: https://github.com/franyang6/UN-World-Happiness-Data"
      ],
      "metadata": {
        "id": "GmAR55oVAVD4"
      }
    }
  ],
  "metadata": {
    "colab": {
      "provenance": []
    },
    "kernelspec": {
      "display_name": "Python 3 (ipykernel)",
      "language": "python",
      "name": "python3"
    },
    "language_info": {
      "codemirror_mode": {
        "name": "ipython",
        "version": 3
      },
      "file_extension": ".py",
      "mimetype": "text/x-python",
      "name": "python",
      "nbconvert_exporter": "python",
      "pygments_lexer": "ipython3",
      "version": "3.9.5"
    }
  },
  "nbformat": 4,
  "nbformat_minor": 0
}