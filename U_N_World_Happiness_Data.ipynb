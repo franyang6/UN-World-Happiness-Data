{
  "nbformat": 4,
  "nbformat_minor": 0,
  "metadata": {
    "colab": {
      "provenance": [],
      "authorship_tag": "ABX9TyPn7oYkIFbPXnh8zvoKrZzY",
      "include_colab_link": true
    },
    "kernelspec": {
      "name": "python3",
      "display_name": "Python 3"
    },
    "language_info": {
      "name": "python"
    }
  },
  "cells": [
    {
      "cell_type": "markdown",
      "metadata": {
        "id": "view-in-github",
        "colab_type": "text"
      },
      "source": [
        "<a href=\"https://colab.research.google.com/github/franyang6/UN-World-Happiness-Data/blob/main/U_N_World_Happiness_Data.ipynb\" target=\"_parent\"><img src=\"https://colab.research.google.com/assets/colab-badge.svg\" alt=\"Open In Colab\"/></a>"
      ]
    },
    {
      "cell_type": "code",
      "execution_count": null,
      "metadata": {
        "id": "1g8ouE9hWeU1"
      },
      "outputs": [],
      "source": [
        "# import libraries\n",
        "import pandas as pd\n",
        "from sklearn.compose import ColumnTransformer, make_column_transformer\n",
        "from sklearn.pipeline import Pipeline\n",
        "from sklearn.impute import SimpleImputer\n",
        "from sklearn.preprocessing import StandardScaler, OneHotEncoder, MaxAbsScaler, MinMaxScaler\n",
        "from numpy import loadtxt\n",
        "from sklearn.ensemble import GradientBoostingClassifier\n",
        "from sklearn.metrics import accuracy_score\n",
        "import aimodelshare as ai \n",
        "import numpy as np\n",
        "import seaborn as sns\n",
        "from sklearn.ensemble import RandomForestClassifier, BaggingClassifier\n",
        "from sklearn.model_selection import cross_val_score\n",
        "from sklearn.model_selection import KFold\n",
        "import keras\n",
        "from tensorflow.keras.optimizers import SGD\n",
        "from keras.layers import Dense, Activation\n",
        "from keras.models import Sequential\n",
        "from keras.utils import to_categorical\n",
        "from featurewiz import featurewiz"
      ]
    },
    {
      "cell_type": "markdown",
      "source": [
        "## 1. Get data in and set up X_train, X_test, y_train objects"
      ],
      "metadata": {
        "id": "xQHnRU0HXeIn"
      }
    },
    {
      "cell_type": "code",
      "source": [
        "# import CSVs\n",
        "X_test = pd.read_csv('X_test.csv')\n",
        "X_train = pd.read_csv('X_train.csv')\n",
        "y_train = pd.read_csv('y_train.csv')"
      ],
      "metadata": {
        "id": "2m8HBAEkXix7"
      },
      "execution_count": null,
      "outputs": []
    },
    {
      "cell_type": "code",
      "source": [
        "# create labels for y train\n",
        "y_train_labels = y_train.idxmax(axis=1)\n",
        "y_train_labels"
      ],
      "metadata": {
        "colab": {
          "base_uri": "https://localhost:8080/"
        },
        "id": "BnD_kgj1XnHF",
        "outputId": "214e0bfd-a107-4f85-a022-ea7e25c16657"
      },
      "execution_count": null,
      "outputs": [
        {
          "output_type": "execute_result",
          "data": {
            "text/plain": [
              "0       Average\n",
              "1          High\n",
              "2       Average\n",
              "3     Very High\n",
              "4          High\n",
              "        ...    \n",
              "83      Average\n",
              "84          Low\n",
              "85    Very High\n",
              "86      Average\n",
              "87          Low\n",
              "Length: 88, dtype: object"
            ]
          },
          "metadata": {},
          "execution_count": 59
        }
      ]
    },
    {
      "cell_type": "markdown",
      "source": [
        "## Explore bivariate results"
      ],
      "metadata": {
        "id": "-W1yQpKf7fHT"
      }
    },
    {
      "cell_type": "code",
      "source": [
        "X_train"
      ],
      "metadata": {
        "colab": {
          "base_uri": "https://localhost:8080/",
          "height": 572
        },
        "id": "rnBsPIyz7l2r",
        "outputId": "02e80f8d-032c-43b8-df62-e6cdef1dfd84"
      },
      "execution_count": null,
      "outputs": [
        {
          "output_type": "execute_result",
          "data": {
            "text/plain": [
              "      Country or region  GDP per capita  Social support  \\\n",
              "0                  Peru           0.960           1.274   \n",
              "1             Nicaragua           0.694           1.325   \n",
              "2                Greece           1.181           1.156   \n",
              "3                 Qatar           1.684           1.313   \n",
              "4            Uzbekistan           0.745           1.529   \n",
              "..                  ...             ...             ...   \n",
              "83                Libya           1.044           1.303   \n",
              "84              Albania           0.947           0.848   \n",
              "85       United Kingdom           1.333           1.538   \n",
              "86                China           1.029           1.125   \n",
              "87  Congo (Brazzaville)           0.673           0.799   \n",
              "\n",
              "    Healthy life expectancy  Freedom to make life choices  Generosity  \\\n",
              "0                     0.854                         0.455       0.083   \n",
              "1                     0.835                         0.435       0.200   \n",
              "2                     0.999                         0.067       0.000   \n",
              "3                     0.871                         0.555       0.220   \n",
              "4                     0.756                         0.631       0.322   \n",
              "..                      ...                           ...         ...   \n",
              "83                    0.673                         0.416       0.133   \n",
              "84                    0.874                         0.383       0.178   \n",
              "85                    0.996                         0.450       0.348   \n",
              "86                    0.893                         0.521       0.058   \n",
              "87                    0.508                         0.372       0.105   \n",
              "\n",
              "    Perceptions of corruption                 name    region  \\\n",
              "0                       0.027                 Peru  Americas   \n",
              "1                       0.127            Nicaragua  Americas   \n",
              "2                       0.034               Greece    Europe   \n",
              "3                       0.167                Qatar      Asia   \n",
              "4                       0.240           Uzbekistan      Asia   \n",
              "..                        ...                  ...       ...   \n",
              "83                      0.152                Libya    Africa   \n",
              "84                      0.027              Albania    Europe   \n",
              "85                      0.278       United Kingdom    Europe   \n",
              "86                      0.100                China      Asia   \n",
              "87                      0.093  Congo (Brazzaville)    Africa   \n",
              "\n",
              "                         sub-region  Terrorist_attacks  \n",
              "0   Latin America and the Caribbean          18.000000  \n",
              "1   Latin America and the Caribbean         125.611111  \n",
              "2                   Southern Europe         112.000000  \n",
              "3                      Western Asia          57.333333  \n",
              "4                      Central Asia         125.611111  \n",
              "..                              ...                ...  \n",
              "83                  Northern Africa        1448.000000  \n",
              "84                  Southern Europe           9.000000  \n",
              "85                  Northern Europe         339.000000  \n",
              "86                     Eastern Asia          37.000000  \n",
              "87               Sub-Saharan Africa         122.000000  \n",
              "\n",
              "[88 rows x 11 columns]"
            ],
            "text/html": [
              "\n",
              "  <div id=\"df-e95828df-627c-42f6-9f28-b7f6066bdced\">\n",
              "    <div class=\"colab-df-container\">\n",
              "      <div>\n",
              "<style scoped>\n",
              "    .dataframe tbody tr th:only-of-type {\n",
              "        vertical-align: middle;\n",
              "    }\n",
              "\n",
              "    .dataframe tbody tr th {\n",
              "        vertical-align: top;\n",
              "    }\n",
              "\n",
              "    .dataframe thead th {\n",
              "        text-align: right;\n",
              "    }\n",
              "</style>\n",
              "<table border=\"1\" class=\"dataframe\">\n",
              "  <thead>\n",
              "    <tr style=\"text-align: right;\">\n",
              "      <th></th>\n",
              "      <th>Country or region</th>\n",
              "      <th>GDP per capita</th>\n",
              "      <th>Social support</th>\n",
              "      <th>Healthy life expectancy</th>\n",
              "      <th>Freedom to make life choices</th>\n",
              "      <th>Generosity</th>\n",
              "      <th>Perceptions of corruption</th>\n",
              "      <th>name</th>\n",
              "      <th>region</th>\n",
              "      <th>sub-region</th>\n",
              "      <th>Terrorist_attacks</th>\n",
              "    </tr>\n",
              "  </thead>\n",
              "  <tbody>\n",
              "    <tr>\n",
              "      <th>0</th>\n",
              "      <td>Peru</td>\n",
              "      <td>0.960</td>\n",
              "      <td>1.274</td>\n",
              "      <td>0.854</td>\n",
              "      <td>0.455</td>\n",
              "      <td>0.083</td>\n",
              "      <td>0.027</td>\n",
              "      <td>Peru</td>\n",
              "      <td>Americas</td>\n",
              "      <td>Latin America and the Caribbean</td>\n",
              "      <td>18.000000</td>\n",
              "    </tr>\n",
              "    <tr>\n",
              "      <th>1</th>\n",
              "      <td>Nicaragua</td>\n",
              "      <td>0.694</td>\n",
              "      <td>1.325</td>\n",
              "      <td>0.835</td>\n",
              "      <td>0.435</td>\n",
              "      <td>0.200</td>\n",
              "      <td>0.127</td>\n",
              "      <td>Nicaragua</td>\n",
              "      <td>Americas</td>\n",
              "      <td>Latin America and the Caribbean</td>\n",
              "      <td>125.611111</td>\n",
              "    </tr>\n",
              "    <tr>\n",
              "      <th>2</th>\n",
              "      <td>Greece</td>\n",
              "      <td>1.181</td>\n",
              "      <td>1.156</td>\n",
              "      <td>0.999</td>\n",
              "      <td>0.067</td>\n",
              "      <td>0.000</td>\n",
              "      <td>0.034</td>\n",
              "      <td>Greece</td>\n",
              "      <td>Europe</td>\n",
              "      <td>Southern Europe</td>\n",
              "      <td>112.000000</td>\n",
              "    </tr>\n",
              "    <tr>\n",
              "      <th>3</th>\n",
              "      <td>Qatar</td>\n",
              "      <td>1.684</td>\n",
              "      <td>1.313</td>\n",
              "      <td>0.871</td>\n",
              "      <td>0.555</td>\n",
              "      <td>0.220</td>\n",
              "      <td>0.167</td>\n",
              "      <td>Qatar</td>\n",
              "      <td>Asia</td>\n",
              "      <td>Western Asia</td>\n",
              "      <td>57.333333</td>\n",
              "    </tr>\n",
              "    <tr>\n",
              "      <th>4</th>\n",
              "      <td>Uzbekistan</td>\n",
              "      <td>0.745</td>\n",
              "      <td>1.529</td>\n",
              "      <td>0.756</td>\n",
              "      <td>0.631</td>\n",
              "      <td>0.322</td>\n",
              "      <td>0.240</td>\n",
              "      <td>Uzbekistan</td>\n",
              "      <td>Asia</td>\n",
              "      <td>Central Asia</td>\n",
              "      <td>125.611111</td>\n",
              "    </tr>\n",
              "    <tr>\n",
              "      <th>...</th>\n",
              "      <td>...</td>\n",
              "      <td>...</td>\n",
              "      <td>...</td>\n",
              "      <td>...</td>\n",
              "      <td>...</td>\n",
              "      <td>...</td>\n",
              "      <td>...</td>\n",
              "      <td>...</td>\n",
              "      <td>...</td>\n",
              "      <td>...</td>\n",
              "      <td>...</td>\n",
              "    </tr>\n",
              "    <tr>\n",
              "      <th>83</th>\n",
              "      <td>Libya</td>\n",
              "      <td>1.044</td>\n",
              "      <td>1.303</td>\n",
              "      <td>0.673</td>\n",
              "      <td>0.416</td>\n",
              "      <td>0.133</td>\n",
              "      <td>0.152</td>\n",
              "      <td>Libya</td>\n",
              "      <td>Africa</td>\n",
              "      <td>Northern Africa</td>\n",
              "      <td>1448.000000</td>\n",
              "    </tr>\n",
              "    <tr>\n",
              "      <th>84</th>\n",
              "      <td>Albania</td>\n",
              "      <td>0.947</td>\n",
              "      <td>0.848</td>\n",
              "      <td>0.874</td>\n",
              "      <td>0.383</td>\n",
              "      <td>0.178</td>\n",
              "      <td>0.027</td>\n",
              "      <td>Albania</td>\n",
              "      <td>Europe</td>\n",
              "      <td>Southern Europe</td>\n",
              "      <td>9.000000</td>\n",
              "    </tr>\n",
              "    <tr>\n",
              "      <th>85</th>\n",
              "      <td>United Kingdom</td>\n",
              "      <td>1.333</td>\n",
              "      <td>1.538</td>\n",
              "      <td>0.996</td>\n",
              "      <td>0.450</td>\n",
              "      <td>0.348</td>\n",
              "      <td>0.278</td>\n",
              "      <td>United Kingdom</td>\n",
              "      <td>Europe</td>\n",
              "      <td>Northern Europe</td>\n",
              "      <td>339.000000</td>\n",
              "    </tr>\n",
              "    <tr>\n",
              "      <th>86</th>\n",
              "      <td>China</td>\n",
              "      <td>1.029</td>\n",
              "      <td>1.125</td>\n",
              "      <td>0.893</td>\n",
              "      <td>0.521</td>\n",
              "      <td>0.058</td>\n",
              "      <td>0.100</td>\n",
              "      <td>China</td>\n",
              "      <td>Asia</td>\n",
              "      <td>Eastern Asia</td>\n",
              "      <td>37.000000</td>\n",
              "    </tr>\n",
              "    <tr>\n",
              "      <th>87</th>\n",
              "      <td>Congo (Brazzaville)</td>\n",
              "      <td>0.673</td>\n",
              "      <td>0.799</td>\n",
              "      <td>0.508</td>\n",
              "      <td>0.372</td>\n",
              "      <td>0.105</td>\n",
              "      <td>0.093</td>\n",
              "      <td>Congo (Brazzaville)</td>\n",
              "      <td>Africa</td>\n",
              "      <td>Sub-Saharan Africa</td>\n",
              "      <td>122.000000</td>\n",
              "    </tr>\n",
              "  </tbody>\n",
              "</table>\n",
              "<p>88 rows × 11 columns</p>\n",
              "</div>\n",
              "      <button class=\"colab-df-convert\" onclick=\"convertToInteractive('df-e95828df-627c-42f6-9f28-b7f6066bdced')\"\n",
              "              title=\"Convert this dataframe to an interactive table.\"\n",
              "              style=\"display:none;\">\n",
              "        \n",
              "  <svg xmlns=\"http://www.w3.org/2000/svg\" height=\"24px\"viewBox=\"0 0 24 24\"\n",
              "       width=\"24px\">\n",
              "    <path d=\"M0 0h24v24H0V0z\" fill=\"none\"/>\n",
              "    <path d=\"M18.56 5.44l.94 2.06.94-2.06 2.06-.94-2.06-.94-.94-2.06-.94 2.06-2.06.94zm-11 1L8.5 8.5l.94-2.06 2.06-.94-2.06-.94L8.5 2.5l-.94 2.06-2.06.94zm10 10l.94 2.06.94-2.06 2.06-.94-2.06-.94-.94-2.06-.94 2.06-2.06.94z\"/><path d=\"M17.41 7.96l-1.37-1.37c-.4-.4-.92-.59-1.43-.59-.52 0-1.04.2-1.43.59L10.3 9.45l-7.72 7.72c-.78.78-.78 2.05 0 2.83L4 21.41c.39.39.9.59 1.41.59.51 0 1.02-.2 1.41-.59l7.78-7.78 2.81-2.81c.8-.78.8-2.07 0-2.86zM5.41 20L4 18.59l7.72-7.72 1.47 1.35L5.41 20z\"/>\n",
              "  </svg>\n",
              "      </button>\n",
              "      \n",
              "  <style>\n",
              "    .colab-df-container {\n",
              "      display:flex;\n",
              "      flex-wrap:wrap;\n",
              "      gap: 12px;\n",
              "    }\n",
              "\n",
              "    .colab-df-convert {\n",
              "      background-color: #E8F0FE;\n",
              "      border: none;\n",
              "      border-radius: 50%;\n",
              "      cursor: pointer;\n",
              "      display: none;\n",
              "      fill: #1967D2;\n",
              "      height: 32px;\n",
              "      padding: 0 0 0 0;\n",
              "      width: 32px;\n",
              "    }\n",
              "\n",
              "    .colab-df-convert:hover {\n",
              "      background-color: #E2EBFA;\n",
              "      box-shadow: 0px 1px 2px rgba(60, 64, 67, 0.3), 0px 1px 3px 1px rgba(60, 64, 67, 0.15);\n",
              "      fill: #174EA6;\n",
              "    }\n",
              "\n",
              "    [theme=dark] .colab-df-convert {\n",
              "      background-color: #3B4455;\n",
              "      fill: #D2E3FC;\n",
              "    }\n",
              "\n",
              "    [theme=dark] .colab-df-convert:hover {\n",
              "      background-color: #434B5C;\n",
              "      box-shadow: 0px 1px 3px 1px rgba(0, 0, 0, 0.15);\n",
              "      filter: drop-shadow(0px 1px 2px rgba(0, 0, 0, 0.3));\n",
              "      fill: #FFFFFF;\n",
              "    }\n",
              "  </style>\n",
              "\n",
              "      <script>\n",
              "        const buttonEl =\n",
              "          document.querySelector('#df-e95828df-627c-42f6-9f28-b7f6066bdced button.colab-df-convert');\n",
              "        buttonEl.style.display =\n",
              "          google.colab.kernel.accessAllowed ? 'block' : 'none';\n",
              "\n",
              "        async function convertToInteractive(key) {\n",
              "          const element = document.querySelector('#df-e95828df-627c-42f6-9f28-b7f6066bdced');\n",
              "          const dataTable =\n",
              "            await google.colab.kernel.invokeFunction('convertToInteractive',\n",
              "                                                     [key], {});\n",
              "          if (!dataTable) return;\n",
              "\n",
              "          const docLinkHtml = 'Like what you see? Visit the ' +\n",
              "            '<a target=\"_blank\" href=https://colab.research.google.com/notebooks/data_table.ipynb>data table notebook</a>'\n",
              "            + ' to learn more about interactive tables.';\n",
              "          element.innerHTML = '';\n",
              "          dataTable['output_type'] = 'display_data';\n",
              "          await google.colab.output.renderOutput(dataTable, element);\n",
              "          const docLink = document.createElement('div');\n",
              "          docLink.innerHTML = docLinkHtml;\n",
              "          element.appendChild(docLink);\n",
              "        }\n",
              "      </script>\n",
              "    </div>\n",
              "  </div>\n",
              "  "
            ]
          },
          "metadata": {},
          "execution_count": 31
        }
      ]
    },
    {
      "cell_type": "markdown",
      "source": [
        "\n",
        "#### As the GDP per capita by happiness categories violin plot shows, countries with higher GDP per capita tend to be in higher happiness categories which is expected, since higher GDP per capita is usually an indicator of better economic development of the country which leads to higher happiness.\n",
        "#### Countries in the 'very high' happiness category has the highest median and upper & lower quartile of GDP per capita.\n",
        "#### Countries in the 'very low' happiness category has the lowest median and upper & lower quartile of GDP per capita."
      ],
      "metadata": {
        "id": "xHD_4hF5_aNT"
      }
    },
    {
      "cell_type": "code",
      "source": [
        "sns.violinplot(y=X_train['GDP per capita'], x=y_train_labels,palette='rainbow',\n",
        "               order=[\"Very Low\",\"Low\",\"Average\",\"High\", 'Very High'])"
      ],
      "metadata": {
        "colab": {
          "base_uri": "https://localhost:8080/",
          "height": 283
        },
        "id": "ti02OSoS7jOA",
        "outputId": "e3f92ad4-af83-453f-8ee2-fd571ba6db8c"
      },
      "execution_count": null,
      "outputs": [
        {
          "output_type": "execute_result",
          "data": {
            "text/plain": [
              "<matplotlib.axes._subplots.AxesSubplot at 0x7f66f55cdfd0>"
            ]
          },
          "metadata": {},
          "execution_count": 21
        },
        {
          "output_type": "display_data",
          "data": {
            "text/plain": [
              "<Figure size 432x288 with 1 Axes>"
            ],
            "image/png": "[encoded data removed]"
          },
          "metadata": {
            "needs_background": "light"
          }
        }
      ]
    },
    {
      "cell_type": "markdown",
      "source": [
        "\n",
        "#### As the healthy life expectancy by happiness categories violin plot shows, countries with healthy life expectancy tend to be in higher happiness categories which is expected, since healthy life expectancy is an indicator of higher average number of years a person can expect to live in full health, which leads to higher happiness.\n",
        "#### Countries in the 'very high' happiness category has the highest median and upper & lower quartile of healthy life expectancy.\n",
        "#### Countries in the 'very low' happiness category has the lowest median and upper & lower quartile of healthy life expectancy."
      ],
      "metadata": {
        "id": "oNgHH0kH_P4e"
      }
    },
    {
      "cell_type": "code",
      "source": [
        "sns.violinplot(y=X_train['Healthy life expectancy'], x=y_train_labels,palette='rainbow',\n",
        "               order=[\"Very Low\",\"Low\",\"Average\",\"High\", 'Very High'])"
      ],
      "metadata": {
        "colab": {
          "base_uri": "https://localhost:8080/",
          "height": 283
        },
        "id": "LQOpR9WA88o7",
        "outputId": "1bdf3110-f183-4fb7-db2f-bc877fbc561f"
      },
      "execution_count": null,
      "outputs": [
        {
          "output_type": "execute_result",
          "data": {
            "text/plain": [
              "<matplotlib.axes._subplots.AxesSubplot at 0x7f66f55bf670>"
            ]
          },
          "metadata": {},
          "execution_count": 22
        },
        {
          "output_type": "display_data",
          "data": {
            "text/plain": [
              "<Figure size 432x288 with 1 Axes>"
            ],
            "image/png": "[encoded data removed]"
          },
          "metadata": {
            "needs_background": "light"
          }
        }
      ]
    },
    {
      "cell_type": "markdown",
      "source": [
        "#### As the social support by happiness categories violin plot shows, countries with social support tend to be in higher happiness categories which is expected, since social support is an indicator higher physical, resource & information and emotional support by your friends and family, which leads to higher happiness.\n",
        "#### Countries in the 'very high' happiness category has the highest median and upper & lower quartile of social support.\n",
        "#### Countries in the 'very low' happiness category has the lowest median and upper & lower quartile of social support."
      ],
      "metadata": {
        "id": "mX1taPDIA7xE"
      }
    },
    {
      "cell_type": "code",
      "source": [
        "sns.violinplot(y=X_train['Social support'], x=y_train_labels,palette='rainbow',\n",
        "               order=[\"Very Low\",\"Low\",\"Average\",\"High\", 'Very High'])"
      ],
      "metadata": {
        "colab": {
          "base_uri": "https://localhost:8080/",
          "height": 283
        },
        "id": "yCiqWO_c7-pG",
        "outputId": "ef3a840d-ee37-45ff-d237-e002e04664cf"
      },
      "execution_count": null,
      "outputs": [
        {
          "output_type": "execute_result",
          "data": {
            "text/plain": [
              "<matplotlib.axes._subplots.AxesSubplot at 0x7f66f55cd610>"
            ]
          },
          "metadata": {},
          "execution_count": 23
        },
        {
          "output_type": "display_data",
          "data": {
            "text/plain": [
              "<Figure size 432x288 with 1 Axes>"
            ],
            "image/png": "[encoded data removed]"
          },
          "metadata": {
            "needs_background": "light"
          }
        }
      ]
    },
    {
      "cell_type": "markdown",
      "source": [
        "## 2.Examine features that predict happiness categories using one or more models that allow for automatic feature selection"
      ],
      "metadata": {
        "id": "XGcAO2MyMEHw"
      }
    },
    {
      "cell_type": "code",
      "source": [
        "# Merge data\n",
        "data = X_train.copy()\n",
        "data['target'] = y_train_labels"
      ],
      "metadata": {
        "id": "MqpxJJmsMoPb"
      },
      "execution_count": null,
      "outputs": []
    },
    {
      "cell_type": "code",
      "source": [
        "# Automatic feature selection\n",
        "\n",
        "target = 'target'\n",
        " \n",
        "features, train = featurewiz(data, target, corr_limit=0.7, verbose=2, sep=\",\",\n",
        "header=0,test_data=\"\", feature_engg=\"\", category_encoders=\"\")"
      ],
      "metadata": {
        "colab": {
          "base_uri": "https://localhost:8080/",
          "height": 1000
        },
        "id": "bzX1OK1KMBRc",
        "outputId": "ec9b896b-f471-4605-a5fa-d7dd66ebd2a0"
      },
      "execution_count": null,
      "outputs": [
        {
          "output_type": "stream",
          "name": "stdout",
          "text": [
            "############################################################################################\n",
            "############       F A S T   F E A T U R E  E N G G    A N D    S E L E C T I O N ! ########\n",
            "# Be judicious with featurewiz. Don't use it to create too many un-interpretable features! #\n",
            "############################################################################################\n",
            "featurewiz has selected 0.7 as the correlation limit. Change this limit to fit your needs...\n",
            "Skipping feature engineering since no feature_engg input...\n",
            "Skipping category encoding since no category encoders specified in input...\n",
            "#### Single_Label Multi_Classification problem ####\n",
            "    Loaded train data. Shape = (88, 12)\n",
            "    Some column names had special characters which were removed...\n",
            "#### Single_Label Multi_Classification problem ####\n",
            "No test data filename given...\n",
            "#######################################################################################\n",
            "######################## C L A S S I F Y I N G  V A R I A B L E S  ####################\n",
            "#######################################################################################\n",
            "        2 variable(s) to be removed since ID or low-information variables\n",
            "    \tvariables removed = ['Countryorregion', 'name']\n",
            "GPU active on this device\n",
            "    Tuning XGBoost using GPU hyper-parameters. This will take time...\n",
            "    After removing redundant variables from further processing, features left = 9\n",
            "No interactions created for categorical vars since feature engg does not specify it\n",
            "    target labels need to be converted...\n",
            "Completed label encoding of target variable = target\n",
            "How model predictions need to be transformed for target:\n",
            "\t{0: 'Average', 1: 'High', 2: 'Low', 3: 'Very High', 4: 'Very Low'}\n",
            "#######################################################################################\n",
            "#####  Searching for Uncorrelated List Of Variables (SULOV) in 7 features ############\n",
            "#######################################################################################\n",
            "    there are no null values in dataset...\n",
            "    Removing (2) highly correlated variables:\n",
            "    ['Healthylifeexpectancy', 'Socialsupport']\n",
            "    Following (5) vars selected: ['Freedomtomakelifechoices', 'Generosity', 'Perceptionsofcorruption', 'Terrorist_attacks', 'GDPpercapita']\n"
          ]
        },
        {
          "output_type": "display_data",
          "data": {
            "text/plain": [
              "<Figure size 1080x360 with 1 Axes>"
            ],
            "image/png": "[encoded data removed]"
          },
          "metadata": {}
        },
        {
          "output_type": "stream",
          "name": "stdout",
          "text": [
            "Time taken for SULOV method = 1 seconds\n",
            "    Adding 2 categorical variables to reduced numeric variables  of 5\n",
            "Final list of selected 7 vars after SULOV = ['Freedomtomakelifechoices', 'Generosity', 'Perceptionsofcorruption', 'Terrorist_attacks', 'GDPpercapita', 'region', 'subregion']\n",
            "Converting all features to numeric before sending to XGBoost...\n",
            "    there were no mixed data types or object columns that errored. Data is all numeric...\n",
            "Shape of train data after adding missing values flags = (88, 8)\n",
            "#######################################################################################\n",
            "#####    R E C U R S I V E   X G B O O S T : F E A T U R E   S E L E C T I O N  #######\n",
            "#######################################################################################\n",
            "    using regular XGBoost\n",
            "Current number of predictors before recursive XGBoost = 7 \n",
            "    Taking top 2 features per iteration...\n",
            "    XGBoost version using 0.90 as tree method: gpu_hist\n",
            "Number of booster rounds = 100\n",
            "        using 7 variables...\n",
            "Regular XGBoost is crashing due to: [20:58:45] /workspace/src/tree/updater_gpu_hist.cu:1407: Exception in gpu_hist: NCCL failure :unhandled cuda error /workspace/src/tree/../common/device_helpers.cuh(896)\n",
            "\n",
            "Stack trace:\n",
            "  [bt] (0) /usr/local/lib/python3.8/dist-packages/xgboost/./lib/libxgboost.so(dmlc::LogMessageFatal::~LogMessageFatal()+0x24) [0x7f6a5e0c5cb4]\n",
            "  [bt] (1) /usr/local/lib/python3.8/dist-packages/xgboost/./lib/libxgboost.so(xgboost::tree::GPUHistMakerSpecialised<xgboost::detail::GradientPairInternal<double> >::Update(xgboost::HostDeviceVector<xgboost::detail::GradientPairInternal<float> >*, xgboost::DMatrix*, std::vector<xgboost::RegTree*, std::allocator<xgboost::RegTree*> > const&)+0x1270) [0x7f6a5e3017f0]\n",
            "  [bt] (2) /usr/local/lib/python3.8/dist-packages/xgboost/./lib/libxgboost.so(xgboost::gbm::GBTree::BoostNewTrees(xgboost::HostDeviceVector<xgboost::detail::GradientPairInternal<float> >*, xgboost::DMatrix*, int, std::vector<std::unique_ptr<xgboost::RegTree, std::default_delete<xgboost::RegTree> >, std::allocator<std::unique_ptr<xgboost::RegTree, std::default_delete<xgboost::RegTree> > > >*)+0xa81) [0x7f6a5e14b791]\n",
            "  [bt] (3) /usr/local/lib/python3.8/dist-packages/xgboost/./lib/libxgboost.so(xgboost::gbm::GBTree::DoBoost(xgboost::DMatrix*, xgboost::HostDeviceVector<xgboost::detail::GradientPairInternal<float> >*, xgboost::ObjFunction*)+0x3f1) [0x7f6a5e14c321]\n",
            "  [bt] (4) /usr/local/lib/python3.8/dist-packages/xgboost/./lib/libxgboost.so(xgboost::LearnerImpl::UpdateOneIter(int, xgboost::DMatrix*)+0x396) [0x7f6a5e15f556]\n",
            "  [bt] (5) /usr/local/lib/python3.8/dist-packages/xgboost/./lib/libxgboost.so(XGBoosterUpdateOneIter+0x35) [0x7f6a5e0c2aa5]\n",
            "  [bt] (6) /lib/x86_64-linux-gnu/libffi.so.7(+0x6ff5) [0x7f6b06856ff5]\n",
            "  [bt] (7) /lib/x86_64-linux-gnu/libffi.so.7(+0x640a) [0x7f6b0685640a]\n",
            "  [bt] (8) /usr/lib/python3.8/lib-dynload/_ctypes.cpython-38-x86_64-linux-gnu.so(_ctypes_callproc+0x5b6) [0x7f6b0614e306]\n",
            "\n",
            "\n",
            "[20:58:45] /workspace/src/tree/updater_gpu_hist.cu:1407: Exception in gpu_hist: NCCL failure :unhandled cuda error /workspace/src/tree/../common/device_helpers.cuh(896)\n",
            "\n",
            "Stack trace:\n",
            "  [bt] (0) /usr/local/lib/python3.8/dist-packages/xgboost/./lib/libxgboost.so(dmlc::LogMessageFatal::~LogMessageFatal()+0x24) [0x7f6a5e0c5cb4]\n",
            "  [bt] (1) /usr/local/lib/python3.8/dist-packages/xgboost/./lib/libxgboost.so(xgboost::tree::GPUHistMakerSpecialised<xgboost::detail::GradientPairInternal<double> >::Update(xgboost::HostDeviceVector<xgboost::detail::GradientPairInternal<float> >*, xgboost::DMatrix*, std::vector<xgboost::RegTree*, std::allocator<xgboost::RegTree*> > const&)+0x1270) [0x7f6a5e3017f0]\n",
            "  [bt] (2) /usr/local/lib/python3.8/dist-packages/xgboost/./lib/libxgboost.so(xgboost::gbm::GBTree::BoostNewTrees(xgboost::HostDeviceVector<xgboost::detail::GradientPairInternal<float> >*, xgboost::DMatrix*, int, std::vector<std::unique_ptr<xgboost::RegTree, std::default_delete<xgboost::RegTree> >, std::allocator<std::unique_ptr<xgboost::RegTree, std::default_delete<xgboost::RegTree> > > >*)+0xa81) [0x7f6a5e14b791]\n",
            "  [bt] (3) /usr/local/lib/python3.8/dist-packages/xgboost/./lib/libxgboost.so(xgboost::gbm::GBTree::DoBoost(xgboost::DMatrix*, xgboost::HostDeviceVector<xgboost::detail::GradientPairInternal<float> >*, xgboost::ObjFunction*)+0x3f1) [0x7f6a5e14c321]\n",
            "  [bt] (4) /usr/local/lib/python3.8/dist-packages/xgboost/./lib/libxgboost.so(xgboost::LearnerImpl::UpdateOneIter(int, xgboost::DMatrix*)+0x396) [0x7f6a5e15f556]\n",
            "  [bt] (5) /usr/local/lib/python3.8/dist-packages/xgboost/./lib/libxgboost.so(XGBoosterUpdateOneIter+0x35) [0x7f6a5e0c2aa5]\n",
            "  [bt] (6) /lib/x86_64-linux-gnu/libffi.so.7(+0x6ff5) [0x7f6b06856ff5]\n",
            "  [bt] (7) /lib/x86_64-linux-gnu/libffi.so.7(+0x640a) [0x7f6b0685640a]\n",
            "  [bt] (8) /usr/lib/python3.8/lib-dynload/_ctypes.cpython-38-x86_64-linux-gnu.so(_ctypes_callproc+0x5b6) [0x7f6b0614e306]\n",
            "\n",
            "\n",
            "Regular XGBoost is crashing due to Invalid Parameter format for gpu_id expect int but value='None'. Returning with currently selected features...\n",
            "    Completed XGBoost feature selection in 0 seconds\n",
            "    Alert: No ID variables ['Countryorregion', 'name'] are included in selected features\n",
            "#######################################################################################\n",
            "#####          F E A T U R E   S E L E C T I O N   C O M P L E T E D            #######\n",
            "#######################################################################################\n",
            "Selected 7 important features:\n",
            "['Freedomtomakelifechoices', 'Generosity', 'Perceptionsofcorruption', 'Terrorist_attacks', 'GDPpercapita', 'region', 'subregion']\n",
            "Total Time taken for featurewiz selection = 1 seconds\n",
            "Output contains a list of 7 important features and a train dataframe\n"
          ]
        }
      ]
    },
    {
      "cell_type": "markdown",
      "source": [
        "### The working of the SULOV algorithm is as follows:\n",
        "\n",
        "### Find all the pairs of highly correlated variables exceeding a correlation threshold (say absolute(0.7)).\n",
        "### Then find their MIS score (Mutual Information Score) to the target variable. MIS is a non-parametric scoring method. So its suitable for all kinds of variables and target.\n",
        "### Now take each pair of correlated variables, then knock off the one with the lower MIS score.\n",
        "### What’s left is the ones with the highest Information scores and least correlation with each other.\n",
        "### Reference: https://github.com/AutoViML/featurewiz\n",
        "\n",
        "### As the results suggest, Featurewiz selects 7 important features from the dataset. The Featurewiz instance returns two objects \n",
        "\n",
        "### Features - a list of selected features \n",
        "### One dataframe - This dataframe contains only selected features and the target variable."
      ],
      "metadata": {
        "id": "qvPwNFZtOm6c"
      }
    },
    {
      "cell_type": "code",
      "source": [
        "print(features)"
      ],
      "metadata": {
        "colab": {
          "base_uri": "https://localhost:8080/"
        },
        "id": "tl7rbK_TPKvX",
        "outputId": "69a04cb1-bbf9-437e-afb5-19f93f73728d"
      },
      "execution_count": null,
      "outputs": [
        {
          "output_type": "stream",
          "name": "stdout",
          "text": [
            "['Freedom to make life choices', 'Generosity', 'Perceptions of corruption', 'Terrorist_attacks', 'GDP per capita', 'region', 'sub-region']\n"
          ]
        }
      ]
    },
    {
      "cell_type": "markdown",
      "source": [
        "### The features selected are 'Freedom to make life choices', 'Generosity', 'Perceptions of corruption', 'Terrorist_attacks', 'GDP per capita', 'region', and 'sub-region'. \n",
        "### The two categorical variables removed are 'Country or region' and 'name' for being low-information variables. (already done in the sample code)\n",
        "### The two numerical variables removed are 'Healthy life expectancy' and 'Social support' for being highly correlated (|correlation coefficient| > 0.7)."
      ],
      "metadata": {
        "id": "-FIBeWFkO8is"
      }
    },
    {
      "cell_type": "markdown",
      "source": [
        "## 2. Preprocess data using Sklearn Column Transformer/ Write and Save Preprocessor function"
      ],
      "metadata": {
        "id": "WttVBLN7XqBS"
      }
    },
    {
      "cell_type": "code",
      "source": [
        "# Create the preprocessing pipelines for both numeric and categorical data.\n",
        "\n",
        "numeric_features = X_train.drop(['Country or region', 'name', 'region', 'sub-region'], axis=1)\n",
        "numeric_features=numeric_features.columns.tolist()\n",
        "\n",
        "numeric_transformer = Pipeline(steps=[\n",
        "    ('imputer', SimpleImputer(strategy='median')),\n",
        "    ('scaler', StandardScaler())])\n",
        "\n",
        "categorical_features = ['region', 'sub-region']\n",
        "\n",
        "#Replacing missing values with Modal value and then one hot encoding.\n",
        "categorical_transformer = Pipeline(steps=[\n",
        "    ('imputer', SimpleImputer(strategy='most_frequent')),\n",
        "    ('onehot', OneHotEncoder(handle_unknown='ignore'))])\n",
        "\n",
        "# final preprocessor object set up with ColumnTransformer\n",
        "preprocessor = ColumnTransformer(\n",
        "    transformers=[\n",
        "        ('num', numeric_transformer, numeric_features),\n",
        "        ('cat', categorical_transformer, categorical_features)])\n",
        "\n",
        "#Fit your preprocessor object\n",
        "preprocess=preprocessor.fit(X_train)"
      ],
      "metadata": {
        "id": "iW5H5EUhD-At"
      },
      "execution_count": null,
      "outputs": []
    },
    {
      "cell_type": "code",
      "source": [
        "# Write function to transform data with preprocessor\n",
        "\n",
        "def preprocessor(data):\n",
        "    data.drop(['Country or region', 'name','Social support', 'Healthy life expectancy'], axis=1)\n",
        "    preprocessed_data=preprocess.transform(data)\n",
        "    return preprocessed_data"
      ],
      "metadata": {
        "id": "fPugttFDXwt7"
      },
      "execution_count": null,
      "outputs": []
    },
    {
      "cell_type": "code",
      "source": [
        "# check shape of X data after preprocessing it using our new function\n",
        "preprocessor(X_train).shape"
      ],
      "metadata": {
        "colab": {
          "base_uri": "https://localhost:8080/"
        },
        "id": "ccLU5rMyXy_i",
        "outputId": "fc46b328-0c2c-4c30-cc90-6a7bc8e26bd0"
      },
      "execution_count": null,
      "outputs": [
        {
          "output_type": "execute_result",
          "data": {
            "text/plain": [
              "(88, 26)"
            ]
          },
          "metadata": {},
          "execution_count": 74
        }
      ]
    },
    {
      "cell_type": "markdown",
      "source": [
        "## 3. Fit model on preprocessed data and save preprocessor function and model"
      ],
      "metadata": {
        "id": "_gmXu4FdX3uw"
      }
    },
    {
      "cell_type": "code",
      "source": [
        "# fit model with ExtraTreesClassifier\n",
        "from sklearn.ensemble import ExtraTreesClassifier\n",
        "model = ExtraTreesClassifier(bootstrap = 'false',\n",
        "        class_weight =  \"balanced\",\n",
        "        criterion = \"gini\",\n",
        "        max_features = 0.6,\n",
        "        min_samples_leaf = 0.1,\n",
        "        min_samples_split = 0.1,\n",
        "        n_estimators = 200,\n",
        "        oob_score = 'false')\n",
        "model.fit(preprocessor(X_train), y_train_labels)"
      ],
      "metadata": {
        "colab": {
          "base_uri": "https://localhost:8080/"
        },
        "id": "HhUQ7vdCX5ek",
        "outputId": "a8be42bf-d717-4b2b-ddc2-5a00ed82700d"
      },
      "execution_count": null,
      "outputs": [
        {
          "output_type": "execute_result",
          "data": {
            "text/plain": [
              "ExtraTreesClassifier(bootstrap='false', class_weight='balanced',\n",
              "                     max_features=0.6, min_samples_leaf=0.1,\n",
              "                     min_samples_split=0.1, n_estimators=200,\n",
              "                     oob_score='false')"
            ]
          },
          "metadata": {},
          "execution_count": 75
        }
      ]
    },
    {
      "cell_type": "markdown",
      "source": [
        "### Save preprocessor function to local \"preprocessor.zip\" file"
      ],
      "metadata": {
        "id": "11iT0Pm1X-zK"
      }
    },
    {
      "cell_type": "code",
      "source": [
        "ai.export_preprocessor(preprocessor,\"\")"
      ],
      "metadata": {
        "colab": {
          "base_uri": "https://localhost:8080/"
        },
        "id": "r8ykYHVnX79i",
        "outputId": "e99329ac-bf72-4ef1-974c-66d50ee345b0"
      },
      "execution_count": null,
      "outputs": [
        {
          "output_type": "stream",
          "name": "stdout",
          "text": [
            "Your preprocessor is now saved to 'preprocessor.zip'\n"
          ]
        }
      ]
    },
    {
      "cell_type": "markdown",
      "source": [
        "### Save model to local \".onnx\" file"
      ],
      "metadata": {
        "id": "Ck0ZXkfDYCZK"
      }
    },
    {
      "cell_type": "code",
      "source": [
        "# Save sklearn model to local ONNX file\n",
        "from aimodelshare.aimsonnx import model_to_onnx\n",
        "\n",
        "# Check how many preprocessed input features are there?\n",
        "from skl2onnx.common.data_types import FloatTensorType\n",
        "\n",
        "feature_count=preprocessor(X_test).shape[1] #Get count of preprocessed features\n",
        "initial_type = [('float_input', FloatTensorType([None, feature_count]))]  #Insert correct number of preprocessed features\n",
        "\n",
        "onnx_model = model_to_onnx(model, framework='sklearn',\n",
        "                          initial_types=initial_type,\n",
        "                          transfer_learning=False,\n",
        "                          deep_learning=False)\n",
        "\n",
        "with open(\"model.onnx\", \"wb\") as f:\n",
        "    f.write(onnx_model.SerializeToString())"
      ],
      "metadata": {
        "id": "jhwQOLWtYFE3"
      },
      "execution_count": null,
      "outputs": []
    },
    {
      "cell_type": "markdown",
      "source": [
        "## 4. Generate predictions from X_test data and submit model to competition"
      ],
      "metadata": {
        "id": "AVzkj5_SYeND"
      }
    },
    {
      "cell_type": "code",
      "metadata": {
        "colab": {
          "base_uri": "https://localhost:8080/"
        },
        "id": "RtgkM02MDpkO",
        "outputId": "f3274668-d3d8-45d1-f178-f68f50d93eba"
      },
      "source": [
        "#Set credentials using modelshare.org username/password\n",
        "\n",
        "from aimodelshare.aws import set_credentials\n",
        "\n",
        "#This is the unique rest api that powers this World Happiness Classification Playground -- make sure to update the apiurl for new competition deployments\n",
        "apiurl=\"https://e2w6gh3id1.execute-api.us-east-2.amazonaws.com/prod/m\"\n",
        "\n",
        "set_credentials(apiurl=apiurl)"
      ],
      "execution_count": null,
      "outputs": [
        {
          "output_type": "stream",
          "name": "stdout",
          "text": [
            "AI Modelshare Username:··········\n",
            "AI Modelshare Password:··········\n",
            "AI Model Share login credentials set successfully.\n"
          ]
        }
      ]
    },
    {
      "cell_type": "code",
      "source": [
        "#Instantiate Competition\n",
        "mycompetition= ai.Competition(apiurl)"
      ],
      "metadata": {
        "id": "KwoJ8r63Ys6j"
      },
      "execution_count": null,
      "outputs": []
    },
    {
      "cell_type": "code",
      "metadata": {
        "id": "_Ql4wksyEUnP",
        "colab": {
          "base_uri": "https://localhost:8080/"
        },
        "outputId": "84df8c15-844e-41e2-b596-9651063e73e8"
      },
      "source": [
        "#Submit Model 1: \n",
        "\n",
        "#-- Generate predicted values (Model 1)\n",
        "prediction_labels = model.predict(preprocessor(X_test))\n",
        "\n",
        "# Submit Model 1 to Competition Leaderboard\n",
        "mycompetition.submit_model(model_filepath = \"model.onnx\",\n",
        "                                 preprocessor_filepath=\"preprocessor.zip\",\n",
        "                                 prediction_submission=prediction_labels,\n",
        "                                 custom_metadata = {\"team\":\"6\"})"
      ],
      "execution_count": null,
      "outputs": [
        {
          "output_type": "stream",
          "name": "stdout",
          "text": [
            "Insert search tags to help users find your model (optional): \n",
            "Provide any useful notes about your model (optional): \n",
            "\n",
            "Your model has been submitted as model version 303\n",
            "\n",
            "To submit code used to create this model or to view current leaderboard navigate to Model Playground: \n",
            "\n",
            " https://www.modelshare.org/detail/model:3164\n"
          ]
        }
      ]
    },
    {
      "cell_type": "markdown",
      "source": [
        "## 5. Model #2"
      ],
      "metadata": {
        "id": "XBRKZB97cDwq"
      }
    },
    {
      "cell_type": "code",
      "source": [
        "# fit model with Gradient Boosting Classifier\n",
        "from sklearn.ensemble import GradientBoostingClassifier\n",
        "model2 = GradientBoostingClassifier(\n",
        "                                   learning_rate=1.2, \n",
        "                                   n_estimators=120, \n",
        "                                   subsample=1.0, \n",
        "                                   criterion='friedman_mse', \n",
        "                                   min_samples_split=2, \n",
        "                                   min_samples_leaf=1, \n",
        "                                   min_weight_fraction_leaf=0.0, \n",
        "                                   max_depth=1,\n",
        "                                   random_state=0)\n",
        "model2.fit(preprocessor(X_train), y_train_labels)"
      ],
      "metadata": {
        "colab": {
          "base_uri": "https://localhost:8080/"
        },
        "id": "ZFoOthYBcHG2",
        "outputId": "69b3f66c-7345-4e19-c173-27e6a9188ac8"
      },
      "execution_count": 236,
      "outputs": [
        {
          "output_type": "execute_result",
          "data": {
            "text/plain": [
              "GradientBoostingClassifier(learning_rate=1.2, max_depth=1, n_estimators=120,\n",
              "                           random_state=0)"
            ]
          },
          "metadata": {},
          "execution_count": 236
        }
      ]
    },
    {
      "cell_type": "code",
      "source": [
        "# Save sklearn model to local ONNX file\n",
        "from aimodelshare.aimsonnx import model_to_onnx\n",
        "\n",
        "feature_count=preprocessor(X_test).shape[1] #Get count of preprocessed features\n",
        "initial_type = [('float_input', FloatTensorType([None, feature_count]))]  # Insert correct number of preprocessed features\n",
        "\n",
        "onnx_model = model_to_onnx(model2, framework='sklearn',\n",
        "                          initial_types=initial_type,\n",
        "                          transfer_learning=False,\n",
        "                          deep_learning=False)\n",
        "\n",
        "with open(\"model2.onnx\", \"wb\") as f:\n",
        "    f.write(onnx_model.SerializeToString())"
      ],
      "metadata": {
        "id": "iLM6hdfJk-JV"
      },
      "execution_count": 237,
      "outputs": []
    },
    {
      "cell_type": "code",
      "source": [
        "#Submit Model 2: \n",
        "\n",
        "#-- Generate predicted values (Model 2)\n",
        "prediction_labels = model2.predict(preprocessor(X_test))\n",
        "\n",
        "# Submit Model 1 to Competition Leaderboard\n",
        "mycompetition.submit_model(model_filepath = \"model2.onnx\",\n",
        "                                 preprocessor_filepath=\"preprocessor.zip\",\n",
        "                                 prediction_submission=prediction_labels,\n",
        "                                 custom_metadata = {\"team\":\"6\"})"
      ],
      "metadata": {
        "colab": {
          "base_uri": "https://localhost:8080/"
        },
        "id": "c9cTyRoklTEL",
        "outputId": "5171a532-806f-426a-b6e6-56f74169dbad"
      },
      "execution_count": 238,
      "outputs": [
        {
          "output_type": "stream",
          "name": "stdout",
          "text": [
            "Insert search tags to help users find your model (optional): \n",
            "Provide any useful notes about your model (optional): \n",
            "\n",
            "Your model has been submitted as model version 328\n",
            "\n",
            "To submit code used to create this model or to view current leaderboard navigate to Model Playground: \n",
            "\n",
            " https://www.modelshare.org/detail/model:3164\n"
          ]
        }
      ]
    },
    {
      "cell_type": "markdown",
      "source": [
        "## Model 3"
      ],
      "metadata": {
        "id": "TNmMWR0HmHlf"
      }
    },
    {
      "cell_type": "code",
      "source": [
        "# fit model with Random Forest\n",
        "from sklearn.ensemble import RandomForestClassifier\n",
        "model3 = RandomForestClassifier(max_depth = 7, n_estimators = 100)\n",
        "model3.fit(preprocessor(X_train), y_train_labels)\n"
      ],
      "metadata": {
        "colab": {
          "base_uri": "https://localhost:8080/"
        },
        "id": "E2AmnGhbAykI",
        "outputId": "24c1232f-5ded-4d98-ceaa-de9a39f2a89f"
      },
      "execution_count": null,
      "outputs": [
        {
          "output_type": "execute_result",
          "data": {
            "text/plain": [
              "RandomForestClassifier(max_depth=7)"
            ]
          },
          "metadata": {},
          "execution_count": 80
        }
      ]
    },
    {
      "cell_type": "code",
      "source": [
        "# Save sklearn model to local ONNX file\n",
        "from aimodelshare.aimsonnx import model_to_onnx\n",
        "\n",
        "feature_count=preprocessor(X_test).shape[1] #Get count of preprocessed features\n",
        "initial_type = [('float_input', FloatTensorType([None, feature_count]))]  # Insert correct number of preprocessed features\n",
        "\n",
        "onnx_model = model_to_onnx(model3, framework='sklearn',\n",
        "                          initial_types=initial_type,\n",
        "                          transfer_learning=False,\n",
        "                          deep_learning=False)\n",
        "\n",
        "with open(\"model3.onnx\", \"wb\") as f:\n",
        "    f.write(onnx_model.SerializeToString())"
      ],
      "metadata": {
        "id": "TOSL4UTiJJvu"
      },
      "execution_count": null,
      "outputs": []
    },
    {
      "cell_type": "code",
      "source": [
        "#Submit Model 3: \n",
        "\n",
        "#-- Generate predicted values (Model 3)\n",
        "prediction_labels = model3.predict(preprocessor(X_test))\n",
        "\n",
        "# Submit Model 1 to Competition Leaderboard\n",
        "mycompetition.submit_model(model_filepath = \"model3.onnx\",\n",
        "                                 preprocessor_filepath=\"preprocessor.zip\",\n",
        "                                 prediction_submission=prediction_labels,\n",
        "                                 custom_metadata = {\"team\":\"6\"})"
      ],
      "metadata": {
        "colab": {
          "base_uri": "https://localhost:8080/"
        },
        "id": "HBJMoxCNKjQH",
        "outputId": "c3cd6654-7650-46b9-d58d-bb843ca4a62b"
      },
      "execution_count": null,
      "outputs": [
        {
          "output_type": "stream",
          "name": "stdout",
          "text": [
            "Insert search tags to help users find your model (optional): \n",
            "Provide any useful notes about your model (optional): \n",
            "\n",
            "Your model has been submitted as model version 304\n",
            "\n",
            "To submit code used to create this model or to view current leaderboard navigate to Model Playground: \n",
            "\n",
            " https://www.modelshare.org/detail/model:3164\n"
          ]
        }
      ]
    },
    {
      "cell_type": "markdown",
      "source": [
        "## Model 3"
      ],
      "metadata": {
        "id": "a_f6H48nUWoU"
      }
    },
    {
      "cell_type": "code",
      "source": [
        "preprocessor(X_train).shape"
      ],
      "metadata": {
        "colab": {
          "base_uri": "https://localhost:8080/"
        },
        "id": "SgSZliUWUkrn",
        "outputId": "34eee0fb-5328-4b8d-9da7-851f70cadd21"
      },
      "execution_count": null,
      "outputs": [
        {
          "output_type": "execute_result",
          "data": {
            "text/plain": [
              "(88, 26)"
            ]
          },
          "metadata": {},
          "execution_count": 102
        }
      ]
    },
    {
      "cell_type": "code",
      "source": [
        "model3 = Sequential([Dense(500, \n",
        "            input_shape=(26, )),\n",
        "        Activation('relu'),\n",
        "        Dense(500),\n",
        "        Dense(500),\n",
        "        Activation('relu'),\n",
        "        Dense(200),\n",
        "        Dense(200),\n",
        "        Activation('relu'),\n",
        "        Dense(50),\n",
        "        Dense(50),\n",
        "        Activation('relu'),\n",
        "        Dense(5),\n",
        "        Activation('softmax')])\n",
        "\n",
        "model3.compile('sgd','categorical_crossentropy',metrics=['accuracy'])"
      ],
      "metadata": {
        "id": "jFcFDUUJUZip"
      },
      "execution_count": 205,
      "outputs": []
    },
    {
      "cell_type": "code",
      "source": [
        "model3.fit(preprocessor(X_train), y_train)"
      ],
      "metadata": {
        "colab": {
          "base_uri": "https://localhost:8080/"
        },
        "id": "d0GP9EcLlE_R",
        "outputId": "2d4a55e1-0b71-4896-af8e-d7f100bc1310"
      },
      "execution_count": 206,
      "outputs": [
        {
          "output_type": "stream",
          "name": "stdout",
          "text": [
            "3/3 [==============================] - 1s 11ms/step - loss: 1.5908 - accuracy: 0.2614\n"
          ]
        },
        {
          "output_type": "execute_result",
          "data": {
            "text/plain": [
              "<keras.callbacks.History at 0x7f69f206e5b0>"
            ]
          },
          "metadata": {},
          "execution_count": 206
        }
      ]
    },
    {
      "cell_type": "code",
      "source": [
        "# Save sklearn model to local ONNX file\n",
        "from aimodelshare.aimsonnx import model_to_onnx\n",
        "from onnxmltools.convert.sparkml.utils import FloatTensorType\n",
        "\n",
        "feature_count=preprocessor(X_test).shape[1] #Get count of preprocessed features\n",
        "initial_type = [('float_input', FloatTensorType([None, feature_count]))]  # Insert correct number of preprocessed features\n",
        "\n",
        "onnx_model = model_to_onnx(model3, framework='keras',\n",
        "                          initial_types=initial_type,\n",
        "                          transfer_learning=False,\n",
        "                          deep_learning=True)\n",
        "\n",
        "with open(\"model3.onnx\", \"wb\") as f:\n",
        "    f.write(onnx_model.SerializeToString())"
      ],
      "metadata": {
        "id": "wouU9yJ4VW4s"
      },
      "execution_count": 207,
      "outputs": []
    },
    {
      "cell_type": "code",
      "source": [
        "#Submit Model 4: \n",
        "\n",
        "#-- Generate predicted values (Model 4)\n",
        "prediction_labels = model3.predict(preprocessor(X_test))\n",
        "y_classes = prediction_labels.argmax(axis=-1)\n",
        "labels = ['Average', 'High', 'Low', 'Very High', 'Very Low']\n",
        "predicted_label = np.array(sorted(labels))[y_classes]\n",
        "\n",
        "# Submit Model 1 to Competition Leaderboard\n",
        "mycompetition.submit_model(model_filepath = \"model3.onnx\",\n",
        "                                 preprocessor_filepath=\"preprocessor.zip\",\n",
        "                                 prediction_submission=predicted_label,\n",
        "                                 custom_metadata = {\"team\":\"6\"})"
      ],
      "metadata": {
        "colab": {
          "base_uri": "https://localhost:8080/"
        },
        "id": "In7Hg52hVh3P",
        "outputId": "f16897c7-9998-451e-bec3-4949b3804724"
      },
      "execution_count": 218,
      "outputs": [
        {
          "output_type": "stream",
          "name": "stdout",
          "text": [
            "Insert search tags to help users find your model (optional): \n",
            "Provide any useful notes about your model (optional): \n",
            "\n",
            "Your model has been submitted as model version 323\n",
            "\n",
            "To submit code used to create this model or to view current leaderboard navigate to Model Playground: \n",
            "\n",
            " https://www.modelshare.org/detail/model:3164\n"
          ]
        }
      ]
    },
    {
      "cell_type": "code",
      "source": [
        "# Compare two or more models\n",
        "data=mycompetition.compare_models([324,312,305,299,58,66], verbose=1)\n",
        "mycompetition.stylize_compare(data)"
      ],
      "metadata": {
        "colab": {
          "base_uri": "https://localhost:8080/",
          "height": 565
        },
        "id": "tH_v5fcV0Av1",
        "outputId": "3087786e-b7b6-4514-88fe-30c0d2622e09"
      },
      "execution_count": 232,
      "outputs": [
        {
          "output_type": "display_data",
          "data": {
            "text/plain": [
              "<IPython.core.display.HTML object>"
            ],
            "text/html": [
              "<style type=\"text/css\">\n",
              "#T_f8b5f_ caption {\n",
              "  color: black;\n",
              "  font-size: 18px;\n",
              "}\n",
              "#T_f8b5f_row3_col2, #T_f8b5f_row3_col3, #T_f8b5f_row3_col4, #T_f8b5f_row3_col5, #T_f8b5f_row3_col6, #T_f8b5f_row3_col7, #T_f8b5f_row5_col2, #T_f8b5f_row5_col3, #T_f8b5f_row5_col4, #T_f8b5f_row5_col5, #T_f8b5f_row5_col6, #T_f8b5f_row5_col7, #T_f8b5f_row13_col7, #T_f8b5f_row15_col5, #T_f8b5f_row15_col6, #T_f8b5f_row15_col7 {\n",
              "  background: tomato;\n",
              "}\n",
              "</style>\n",
              "<table id=\"T_f8b5f_\">\n",
              "  <caption>Model type: GradientBoostingClassifier</caption>\n",
              "  <thead>\n",
              "    <tr>\n",
              "      <th class=\"blank level0\" >&nbsp;</th>\n",
              "      <th class=\"col_heading level0 col0\" >param_name</th>\n",
              "      <th class=\"col_heading level0 col1\" >default_value</th>\n",
              "      <th class=\"col_heading level0 col2\" >model_version_324</th>\n",
              "      <th class=\"col_heading level0 col3\" >model_version_312</th>\n",
              "      <th class=\"col_heading level0 col4\" >model_version_305</th>\n",
              "      <th class=\"col_heading level0 col5\" >model_version_299</th>\n",
              "      <th class=\"col_heading level0 col6\" >model_version_58</th>\n",
              "      <th class=\"col_heading level0 col7\" >model_version_66</th>\n",
              "    </tr>\n",
              "  </thead>\n",
              "  <tbody>\n",
              "    <tr>\n",
              "      <th id=\"T_f8b5f_level0_row0\" class=\"row_heading level0 row0\" >0</th>\n",
              "      <td id=\"T_f8b5f_row0_col0\" class=\"data row0 col0\" >ccp_alpha</td>\n",
              "      <td id=\"T_f8b5f_row0_col1\" class=\"data row0 col1\" >0.000000</td>\n",
              "      <td id=\"T_f8b5f_row0_col2\" class=\"data row0 col2\" >0.000000</td>\n",
              "      <td id=\"T_f8b5f_row0_col3\" class=\"data row0 col3\" >0.000000</td>\n",
              "      <td id=\"T_f8b5f_row0_col4\" class=\"data row0 col4\" >0.000000</td>\n",
              "      <td id=\"T_f8b5f_row0_col5\" class=\"data row0 col5\" >0.000000</td>\n",
              "      <td id=\"T_f8b5f_row0_col6\" class=\"data row0 col6\" >0.000000</td>\n",
              "      <td id=\"T_f8b5f_row0_col7\" class=\"data row0 col7\" >0.000000</td>\n",
              "    </tr>\n",
              "    <tr>\n",
              "      <th id=\"T_f8b5f_level0_row1\" class=\"row_heading level0 row1\" >1</th>\n",
              "      <td id=\"T_f8b5f_row1_col0\" class=\"data row1 col0\" >criterion</td>\n",
              "      <td id=\"T_f8b5f_row1_col1\" class=\"data row1 col1\" >friedman_mse</td>\n",
              "      <td id=\"T_f8b5f_row1_col2\" class=\"data row1 col2\" >friedman_mse</td>\n",
              "      <td id=\"T_f8b5f_row1_col3\" class=\"data row1 col3\" >friedman_mse</td>\n",
              "      <td id=\"T_f8b5f_row1_col4\" class=\"data row1 col4\" >friedman_mse</td>\n",
              "      <td id=\"T_f8b5f_row1_col5\" class=\"data row1 col5\" >friedman_mse</td>\n",
              "      <td id=\"T_f8b5f_row1_col6\" class=\"data row1 col6\" >friedman_mse</td>\n",
              "      <td id=\"T_f8b5f_row1_col7\" class=\"data row1 col7\" >friedman_mse</td>\n",
              "    </tr>\n",
              "    <tr>\n",
              "      <th id=\"T_f8b5f_level0_row2\" class=\"row_heading level0 row2\" >2</th>\n",
              "      <td id=\"T_f8b5f_row2_col0\" class=\"data row2 col0\" >init</td>\n",
              "      <td id=\"T_f8b5f_row2_col1\" class=\"data row2 col1\" >None</td>\n",
              "      <td id=\"T_f8b5f_row2_col2\" class=\"data row2 col2\" >None</td>\n",
              "      <td id=\"T_f8b5f_row2_col3\" class=\"data row2 col3\" >None</td>\n",
              "      <td id=\"T_f8b5f_row2_col4\" class=\"data row2 col4\" >None</td>\n",
              "      <td id=\"T_f8b5f_row2_col5\" class=\"data row2 col5\" >None</td>\n",
              "      <td id=\"T_f8b5f_row2_col6\" class=\"data row2 col6\" >None</td>\n",
              "      <td id=\"T_f8b5f_row2_col7\" class=\"data row2 col7\" >None</td>\n",
              "    </tr>\n",
              "    <tr>\n",
              "      <th id=\"T_f8b5f_level0_row3\" class=\"row_heading level0 row3\" >3</th>\n",
              "      <td id=\"T_f8b5f_row3_col0\" class=\"data row3 col0\" >learning_rate</td>\n",
              "      <td id=\"T_f8b5f_row3_col1\" class=\"data row3 col1\" >0.100000</td>\n",
              "      <td id=\"T_f8b5f_row3_col2\" class=\"data row3 col2\" >1.200000</td>\n",
              "      <td id=\"T_f8b5f_row3_col3\" class=\"data row3 col3\" >1.200000</td>\n",
              "      <td id=\"T_f8b5f_row3_col4\" class=\"data row3 col4\" >1.200000</td>\n",
              "      <td id=\"T_f8b5f_row3_col5\" class=\"data row3 col5\" >1.300000</td>\n",
              "      <td id=\"T_f8b5f_row3_col6\" class=\"data row3 col6\" >1.300000</td>\n",
              "      <td id=\"T_f8b5f_row3_col7\" class=\"data row3 col7\" >1.200000</td>\n",
              "    </tr>\n",
              "    <tr>\n",
              "      <th id=\"T_f8b5f_level0_row4\" class=\"row_heading level0 row4\" >4</th>\n",
              "      <td id=\"T_f8b5f_row4_col0\" class=\"data row4 col0\" >loss</td>\n",
              "      <td id=\"T_f8b5f_row4_col1\" class=\"data row4 col1\" >deviance</td>\n",
              "      <td id=\"T_f8b5f_row4_col2\" class=\"data row4 col2\" >deviance</td>\n",
              "      <td id=\"T_f8b5f_row4_col3\" class=\"data row4 col3\" >deviance</td>\n",
              "      <td id=\"T_f8b5f_row4_col4\" class=\"data row4 col4\" >deviance</td>\n",
              "      <td id=\"T_f8b5f_row4_col5\" class=\"data row4 col5\" >deviance</td>\n",
              "      <td id=\"T_f8b5f_row4_col6\" class=\"data row4 col6\" >deviance</td>\n",
              "      <td id=\"T_f8b5f_row4_col7\" class=\"data row4 col7\" >deviance</td>\n",
              "    </tr>\n",
              "    <tr>\n",
              "      <th id=\"T_f8b5f_level0_row5\" class=\"row_heading level0 row5\" >5</th>\n",
              "      <td id=\"T_f8b5f_row5_col0\" class=\"data row5 col0\" >max_depth</td>\n",
              "      <td id=\"T_f8b5f_row5_col1\" class=\"data row5 col1\" >3</td>\n",
              "      <td id=\"T_f8b5f_row5_col2\" class=\"data row5 col2\" >1</td>\n",
              "      <td id=\"T_f8b5f_row5_col3\" class=\"data row5 col3\" >1</td>\n",
              "      <td id=\"T_f8b5f_row5_col4\" class=\"data row5 col4\" >1</td>\n",
              "      <td id=\"T_f8b5f_row5_col5\" class=\"data row5 col5\" >1</td>\n",
              "      <td id=\"T_f8b5f_row5_col6\" class=\"data row5 col6\" >1</td>\n",
              "      <td id=\"T_f8b5f_row5_col7\" class=\"data row5 col7\" >1</td>\n",
              "    </tr>\n",
              "    <tr>\n",
              "      <th id=\"T_f8b5f_level0_row6\" class=\"row_heading level0 row6\" >6</th>\n",
              "      <td id=\"T_f8b5f_row6_col0\" class=\"data row6 col0\" >max_features</td>\n",
              "      <td id=\"T_f8b5f_row6_col1\" class=\"data row6 col1\" >None</td>\n",
              "      <td id=\"T_f8b5f_row6_col2\" class=\"data row6 col2\" >None</td>\n",
              "      <td id=\"T_f8b5f_row6_col3\" class=\"data row6 col3\" >None</td>\n",
              "      <td id=\"T_f8b5f_row6_col4\" class=\"data row6 col4\" >None</td>\n",
              "      <td id=\"T_f8b5f_row6_col5\" class=\"data row6 col5\" >None</td>\n",
              "      <td id=\"T_f8b5f_row6_col6\" class=\"data row6 col6\" >None</td>\n",
              "      <td id=\"T_f8b5f_row6_col7\" class=\"data row6 col7\" >None</td>\n",
              "    </tr>\n",
              "    <tr>\n",
              "      <th id=\"T_f8b5f_level0_row7\" class=\"row_heading level0 row7\" >7</th>\n",
              "      <td id=\"T_f8b5f_row7_col0\" class=\"data row7 col0\" >max_leaf_nodes</td>\n",
              "      <td id=\"T_f8b5f_row7_col1\" class=\"data row7 col1\" >None</td>\n",
              "      <td id=\"T_f8b5f_row7_col2\" class=\"data row7 col2\" >None</td>\n",
              "      <td id=\"T_f8b5f_row7_col3\" class=\"data row7 col3\" >None</td>\n",
              "      <td id=\"T_f8b5f_row7_col4\" class=\"data row7 col4\" >None</td>\n",
              "      <td id=\"T_f8b5f_row7_col5\" class=\"data row7 col5\" >None</td>\n",
              "      <td id=\"T_f8b5f_row7_col6\" class=\"data row7 col6\" >None</td>\n",
              "      <td id=\"T_f8b5f_row7_col7\" class=\"data row7 col7\" >None</td>\n",
              "    </tr>\n",
              "    <tr>\n",
              "      <th id=\"T_f8b5f_level0_row8\" class=\"row_heading level0 row8\" >8</th>\n",
              "      <td id=\"T_f8b5f_row8_col0\" class=\"data row8 col0\" >min_impurity_decrease</td>\n",
              "      <td id=\"T_f8b5f_row8_col1\" class=\"data row8 col1\" >0.000000</td>\n",
              "      <td id=\"T_f8b5f_row8_col2\" class=\"data row8 col2\" >0.000000</td>\n",
              "      <td id=\"T_f8b5f_row8_col3\" class=\"data row8 col3\" >0.000000</td>\n",
              "      <td id=\"T_f8b5f_row8_col4\" class=\"data row8 col4\" >0.000000</td>\n",
              "      <td id=\"T_f8b5f_row8_col5\" class=\"data row8 col5\" >0.000000</td>\n",
              "      <td id=\"T_f8b5f_row8_col6\" class=\"data row8 col6\" >0.000000</td>\n",
              "      <td id=\"T_f8b5f_row8_col7\" class=\"data row8 col7\" >0.000000</td>\n",
              "    </tr>\n",
              "    <tr>\n",
              "      <th id=\"T_f8b5f_level0_row9\" class=\"row_heading level0 row9\" >9</th>\n",
              "      <td id=\"T_f8b5f_row9_col0\" class=\"data row9 col0\" >min_impurity_split</td>\n",
              "      <td id=\"T_f8b5f_row9_col1\" class=\"data row9 col1\" >None</td>\n",
              "      <td id=\"T_f8b5f_row9_col2\" class=\"data row9 col2\" >None</td>\n",
              "      <td id=\"T_f8b5f_row9_col3\" class=\"data row9 col3\" >None</td>\n",
              "      <td id=\"T_f8b5f_row9_col4\" class=\"data row9 col4\" >None</td>\n",
              "      <td id=\"T_f8b5f_row9_col5\" class=\"data row9 col5\" >None</td>\n",
              "      <td id=\"T_f8b5f_row9_col6\" class=\"data row9 col6\" >None</td>\n",
              "      <td id=\"T_f8b5f_row9_col7\" class=\"data row9 col7\" >None</td>\n",
              "    </tr>\n",
              "    <tr>\n",
              "      <th id=\"T_f8b5f_level0_row10\" class=\"row_heading level0 row10\" >10</th>\n",
              "      <td id=\"T_f8b5f_row10_col0\" class=\"data row10 col0\" >min_samples_leaf</td>\n",
              "      <td id=\"T_f8b5f_row10_col1\" class=\"data row10 col1\" >1</td>\n",
              "      <td id=\"T_f8b5f_row10_col2\" class=\"data row10 col2\" >1</td>\n",
              "      <td id=\"T_f8b5f_row10_col3\" class=\"data row10 col3\" >1</td>\n",
              "      <td id=\"T_f8b5f_row10_col4\" class=\"data row10 col4\" >1</td>\n",
              "      <td id=\"T_f8b5f_row10_col5\" class=\"data row10 col5\" >1</td>\n",
              "      <td id=\"T_f8b5f_row10_col6\" class=\"data row10 col6\" >1</td>\n",
              "      <td id=\"T_f8b5f_row10_col7\" class=\"data row10 col7\" >1</td>\n",
              "    </tr>\n",
              "    <tr>\n",
              "      <th id=\"T_f8b5f_level0_row11\" class=\"row_heading level0 row11\" >11</th>\n",
              "      <td id=\"T_f8b5f_row11_col0\" class=\"data row11 col0\" >min_samples_split</td>\n",
              "      <td id=\"T_f8b5f_row11_col1\" class=\"data row11 col1\" >2</td>\n",
              "      <td id=\"T_f8b5f_row11_col2\" class=\"data row11 col2\" >2</td>\n",
              "      <td id=\"T_f8b5f_row11_col3\" class=\"data row11 col3\" >2</td>\n",
              "      <td id=\"T_f8b5f_row11_col4\" class=\"data row11 col4\" >2</td>\n",
              "      <td id=\"T_f8b5f_row11_col5\" class=\"data row11 col5\" >2</td>\n",
              "      <td id=\"T_f8b5f_row11_col6\" class=\"data row11 col6\" >2</td>\n",
              "      <td id=\"T_f8b5f_row11_col7\" class=\"data row11 col7\" >2</td>\n",
              "    </tr>\n",
              "    <tr>\n",
              "      <th id=\"T_f8b5f_level0_row12\" class=\"row_heading level0 row12\" >12</th>\n",
              "      <td id=\"T_f8b5f_row12_col0\" class=\"data row12 col0\" >min_weight_fraction_leaf</td>\n",
              "      <td id=\"T_f8b5f_row12_col1\" class=\"data row12 col1\" >0.000000</td>\n",
              "      <td id=\"T_f8b5f_row12_col2\" class=\"data row12 col2\" >0.000000</td>\n",
              "      <td id=\"T_f8b5f_row12_col3\" class=\"data row12 col3\" >0.000000</td>\n",
              "      <td id=\"T_f8b5f_row12_col4\" class=\"data row12 col4\" >0.000000</td>\n",
              "      <td id=\"T_f8b5f_row12_col5\" class=\"data row12 col5\" >0.000000</td>\n",
              "      <td id=\"T_f8b5f_row12_col6\" class=\"data row12 col6\" >0.000000</td>\n",
              "      <td id=\"T_f8b5f_row12_col7\" class=\"data row12 col7\" >0.000000</td>\n",
              "    </tr>\n",
              "    <tr>\n",
              "      <th id=\"T_f8b5f_level0_row13\" class=\"row_heading level0 row13\" >13</th>\n",
              "      <td id=\"T_f8b5f_row13_col0\" class=\"data row13 col0\" >n_estimators</td>\n",
              "      <td id=\"T_f8b5f_row13_col1\" class=\"data row13 col1\" >100</td>\n",
              "      <td id=\"T_f8b5f_row13_col2\" class=\"data row13 col2\" >100</td>\n",
              "      <td id=\"T_f8b5f_row13_col3\" class=\"data row13 col3\" >100</td>\n",
              "      <td id=\"T_f8b5f_row13_col4\" class=\"data row13 col4\" >100</td>\n",
              "      <td id=\"T_f8b5f_row13_col5\" class=\"data row13 col5\" >100</td>\n",
              "      <td id=\"T_f8b5f_row13_col6\" class=\"data row13 col6\" >100</td>\n",
              "      <td id=\"T_f8b5f_row13_col7\" class=\"data row13 col7\" >130</td>\n",
              "    </tr>\n",
              "    <tr>\n",
              "      <th id=\"T_f8b5f_level0_row14\" class=\"row_heading level0 row14\" >14</th>\n",
              "      <td id=\"T_f8b5f_row14_col0\" class=\"data row14 col0\" >n_iter_no_change</td>\n",
              "      <td id=\"T_f8b5f_row14_col1\" class=\"data row14 col1\" >None</td>\n",
              "      <td id=\"T_f8b5f_row14_col2\" class=\"data row14 col2\" >None</td>\n",
              "      <td id=\"T_f8b5f_row14_col3\" class=\"data row14 col3\" >None</td>\n",
              "      <td id=\"T_f8b5f_row14_col4\" class=\"data row14 col4\" >None</td>\n",
              "      <td id=\"T_f8b5f_row14_col5\" class=\"data row14 col5\" >None</td>\n",
              "      <td id=\"T_f8b5f_row14_col6\" class=\"data row14 col6\" >None</td>\n",
              "      <td id=\"T_f8b5f_row14_col7\" class=\"data row14 col7\" >None</td>\n",
              "    </tr>\n",
              "    <tr>\n",
              "      <th id=\"T_f8b5f_level0_row15\" class=\"row_heading level0 row15\" >15</th>\n",
              "      <td id=\"T_f8b5f_row15_col0\" class=\"data row15 col0\" >random_state</td>\n",
              "      <td id=\"T_f8b5f_row15_col1\" class=\"data row15 col1\" >None</td>\n",
              "      <td id=\"T_f8b5f_row15_col2\" class=\"data row15 col2\" >None</td>\n",
              "      <td id=\"T_f8b5f_row15_col3\" class=\"data row15 col3\" >None</td>\n",
              "      <td id=\"T_f8b5f_row15_col4\" class=\"data row15 col4\" >None</td>\n",
              "      <td id=\"T_f8b5f_row15_col5\" class=\"data row15 col5\" >0</td>\n",
              "      <td id=\"T_f8b5f_row15_col6\" class=\"data row15 col6\" >0</td>\n",
              "      <td id=\"T_f8b5f_row15_col7\" class=\"data row15 col7\" >0</td>\n",
              "    </tr>\n",
              "    <tr>\n",
              "      <th id=\"T_f8b5f_level0_row16\" class=\"row_heading level0 row16\" >16</th>\n",
              "      <td id=\"T_f8b5f_row16_col0\" class=\"data row16 col0\" >subsample</td>\n",
              "      <td id=\"T_f8b5f_row16_col1\" class=\"data row16 col1\" >1.000000</td>\n",
              "      <td id=\"T_f8b5f_row16_col2\" class=\"data row16 col2\" >1.000000</td>\n",
              "      <td id=\"T_f8b5f_row16_col3\" class=\"data row16 col3\" >1.000000</td>\n",
              "      <td id=\"T_f8b5f_row16_col4\" class=\"data row16 col4\" >1.000000</td>\n",
              "      <td id=\"T_f8b5f_row16_col5\" class=\"data row16 col5\" >1.000000</td>\n",
              "      <td id=\"T_f8b5f_row16_col6\" class=\"data row16 col6\" >1.000000</td>\n",
              "      <td id=\"T_f8b5f_row16_col7\" class=\"data row16 col7\" >1.000000</td>\n",
              "    </tr>\n",
              "    <tr>\n",
              "      <th id=\"T_f8b5f_level0_row17\" class=\"row_heading level0 row17\" >17</th>\n",
              "      <td id=\"T_f8b5f_row17_col0\" class=\"data row17 col0\" >tol</td>\n",
              "      <td id=\"T_f8b5f_row17_col1\" class=\"data row17 col1\" >0.000100</td>\n",
              "      <td id=\"T_f8b5f_row17_col2\" class=\"data row17 col2\" >0.000100</td>\n",
              "      <td id=\"T_f8b5f_row17_col3\" class=\"data row17 col3\" >0.000100</td>\n",
              "      <td id=\"T_f8b5f_row17_col4\" class=\"data row17 col4\" >0.000100</td>\n",
              "      <td id=\"T_f8b5f_row17_col5\" class=\"data row17 col5\" >0.000100</td>\n",
              "      <td id=\"T_f8b5f_row17_col6\" class=\"data row17 col6\" >0.000100</td>\n",
              "      <td id=\"T_f8b5f_row17_col7\" class=\"data row17 col7\" >0.000100</td>\n",
              "    </tr>\n",
              "    <tr>\n",
              "      <th id=\"T_f8b5f_level0_row18\" class=\"row_heading level0 row18\" >18</th>\n",
              "      <td id=\"T_f8b5f_row18_col0\" class=\"data row18 col0\" >validation_fraction</td>\n",
              "      <td id=\"T_f8b5f_row18_col1\" class=\"data row18 col1\" >0.100000</td>\n",
              "      <td id=\"T_f8b5f_row18_col2\" class=\"data row18 col2\" >0.100000</td>\n",
              "      <td id=\"T_f8b5f_row18_col3\" class=\"data row18 col3\" >0.100000</td>\n",
              "      <td id=\"T_f8b5f_row18_col4\" class=\"data row18 col4\" >0.100000</td>\n",
              "      <td id=\"T_f8b5f_row18_col5\" class=\"data row18 col5\" >0.100000</td>\n",
              "      <td id=\"T_f8b5f_row18_col6\" class=\"data row18 col6\" >0.100000</td>\n",
              "      <td id=\"T_f8b5f_row18_col7\" class=\"data row18 col7\" >0.100000</td>\n",
              "    </tr>\n",
              "    <tr>\n",
              "      <th id=\"T_f8b5f_level0_row19\" class=\"row_heading level0 row19\" >19</th>\n",
              "      <td id=\"T_f8b5f_row19_col0\" class=\"data row19 col0\" >verbose</td>\n",
              "      <td id=\"T_f8b5f_row19_col1\" class=\"data row19 col1\" >0</td>\n",
              "      <td id=\"T_f8b5f_row19_col2\" class=\"data row19 col2\" >0</td>\n",
              "      <td id=\"T_f8b5f_row19_col3\" class=\"data row19 col3\" >0</td>\n",
              "      <td id=\"T_f8b5f_row19_col4\" class=\"data row19 col4\" >0</td>\n",
              "      <td id=\"T_f8b5f_row19_col5\" class=\"data row19 col5\" >0</td>\n",
              "      <td id=\"T_f8b5f_row19_col6\" class=\"data row19 col6\" >0</td>\n",
              "      <td id=\"T_f8b5f_row19_col7\" class=\"data row19 col7\" >0</td>\n",
              "    </tr>\n",
              "    <tr>\n",
              "      <th id=\"T_f8b5f_level0_row20\" class=\"row_heading level0 row20\" >20</th>\n",
              "      <td id=\"T_f8b5f_row20_col0\" class=\"data row20 col0\" >warm_start</td>\n",
              "      <td id=\"T_f8b5f_row20_col1\" class=\"data row20 col1\" >False</td>\n",
              "      <td id=\"T_f8b5f_row20_col2\" class=\"data row20 col2\" >False</td>\n",
              "      <td id=\"T_f8b5f_row20_col3\" class=\"data row20 col3\" >False</td>\n",
              "      <td id=\"T_f8b5f_row20_col4\" class=\"data row20 col4\" >False</td>\n",
              "      <td id=\"T_f8b5f_row20_col5\" class=\"data row20 col5\" >False</td>\n",
              "      <td id=\"T_f8b5f_row20_col6\" class=\"data row20 col6\" >False</td>\n",
              "      <td id=\"T_f8b5f_row20_col7\" class=\"data row20 col7\" >False</td>\n",
              "    </tr>\n",
              "  </tbody>\n",
              "</table>\n"
            ]
          },
          "metadata": {}
        },
        {
          "output_type": "stream",
          "name": "stdout",
          "text": [
            "\n",
            "\n",
            "\n"
          ]
        }
      ]
    }
  ]
}